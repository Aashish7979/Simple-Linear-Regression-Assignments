{
  "nbformat": 4,
  "nbformat_minor": 0,
  "metadata": {
    "colab": {
      "name": "Q1_Simple-Linear-Regression.ipynb",
      "provenance": [],
      "collapsed_sections": []
    },
    "kernelspec": {
      "name": "python3",
      "display_name": "Python 3"
    },
    "language_info": {
      "name": "python"
    }
  },
  "cells": [
    {
      "cell_type": "markdown",
      "metadata": {
        "id": "_F3oHZj93bMi"
      },
      "source": [
        "1) Delivery_time -> Predict delivery time using sorting time\n"
      ]
    },
    {
      "cell_type": "markdown",
      "metadata": {
        "id": "8HJfCV2A3iVw"
      },
      "source": [
        "# **Import Libraries**"
      ]
    },
    {
      "cell_type": "code",
      "metadata": {
        "id": "iCLRjY_Y3dq8"
      },
      "source": [
        "import pandas as pd\n",
        "import numpy as np\n",
        "import seaborn as sns\n",
        "import statsmodels.formula.api as smf"
      ],
      "execution_count": 255,
      "outputs": []
    },
    {
      "cell_type": "code",
      "metadata": {
        "colab": {
          "base_uri": "https://localhost:8080/",
          "height": 708
        },
        "id": "OwGudrKt3oPK",
        "outputId": "40deadda-2436-40ce-f797-dd5bfd95eb41"
      },
      "source": [
        "# import dataset\n",
        "dataset=pd.read_csv('delivery_time.csv')\n",
        "dataset"
      ],
      "execution_count": 256,
      "outputs": [
        {
          "output_type": "execute_result",
          "data": {
            "text/html": [
              "<div>\n",
              "<style scoped>\n",
              "    .dataframe tbody tr th:only-of-type {\n",
              "        vertical-align: middle;\n",
              "    }\n",
              "\n",
              "    .dataframe tbody tr th {\n",
              "        vertical-align: top;\n",
              "    }\n",
              "\n",
              "    .dataframe thead th {\n",
              "        text-align: right;\n",
              "    }\n",
              "</style>\n",
              "<table border=\"1\" class=\"dataframe\">\n",
              "  <thead>\n",
              "    <tr style=\"text-align: right;\">\n",
              "      <th></th>\n",
              "      <th>Delivery Time</th>\n",
              "      <th>Sorting Time</th>\n",
              "    </tr>\n",
              "  </thead>\n",
              "  <tbody>\n",
              "    <tr>\n",
              "      <th>0</th>\n",
              "      <td>21.00</td>\n",
              "      <td>10</td>\n",
              "    </tr>\n",
              "    <tr>\n",
              "      <th>1</th>\n",
              "      <td>13.50</td>\n",
              "      <td>4</td>\n",
              "    </tr>\n",
              "    <tr>\n",
              "      <th>2</th>\n",
              "      <td>19.75</td>\n",
              "      <td>6</td>\n",
              "    </tr>\n",
              "    <tr>\n",
              "      <th>3</th>\n",
              "      <td>24.00</td>\n",
              "      <td>9</td>\n",
              "    </tr>\n",
              "    <tr>\n",
              "      <th>4</th>\n",
              "      <td>29.00</td>\n",
              "      <td>10</td>\n",
              "    </tr>\n",
              "    <tr>\n",
              "      <th>5</th>\n",
              "      <td>15.35</td>\n",
              "      <td>6</td>\n",
              "    </tr>\n",
              "    <tr>\n",
              "      <th>6</th>\n",
              "      <td>19.00</td>\n",
              "      <td>7</td>\n",
              "    </tr>\n",
              "    <tr>\n",
              "      <th>7</th>\n",
              "      <td>9.50</td>\n",
              "      <td>3</td>\n",
              "    </tr>\n",
              "    <tr>\n",
              "      <th>8</th>\n",
              "      <td>17.90</td>\n",
              "      <td>10</td>\n",
              "    </tr>\n",
              "    <tr>\n",
              "      <th>9</th>\n",
              "      <td>18.75</td>\n",
              "      <td>9</td>\n",
              "    </tr>\n",
              "    <tr>\n",
              "      <th>10</th>\n",
              "      <td>19.83</td>\n",
              "      <td>8</td>\n",
              "    </tr>\n",
              "    <tr>\n",
              "      <th>11</th>\n",
              "      <td>10.75</td>\n",
              "      <td>4</td>\n",
              "    </tr>\n",
              "    <tr>\n",
              "      <th>12</th>\n",
              "      <td>16.68</td>\n",
              "      <td>7</td>\n",
              "    </tr>\n",
              "    <tr>\n",
              "      <th>13</th>\n",
              "      <td>11.50</td>\n",
              "      <td>3</td>\n",
              "    </tr>\n",
              "    <tr>\n",
              "      <th>14</th>\n",
              "      <td>12.03</td>\n",
              "      <td>3</td>\n",
              "    </tr>\n",
              "    <tr>\n",
              "      <th>15</th>\n",
              "      <td>14.88</td>\n",
              "      <td>4</td>\n",
              "    </tr>\n",
              "    <tr>\n",
              "      <th>16</th>\n",
              "      <td>13.75</td>\n",
              "      <td>6</td>\n",
              "    </tr>\n",
              "    <tr>\n",
              "      <th>17</th>\n",
              "      <td>18.11</td>\n",
              "      <td>7</td>\n",
              "    </tr>\n",
              "    <tr>\n",
              "      <th>18</th>\n",
              "      <td>8.00</td>\n",
              "      <td>2</td>\n",
              "    </tr>\n",
              "    <tr>\n",
              "      <th>19</th>\n",
              "      <td>17.83</td>\n",
              "      <td>7</td>\n",
              "    </tr>\n",
              "    <tr>\n",
              "      <th>20</th>\n",
              "      <td>21.50</td>\n",
              "      <td>5</td>\n",
              "    </tr>\n",
              "  </tbody>\n",
              "</table>\n",
              "</div>"
            ],
            "text/plain": [
              "    Delivery Time  Sorting Time\n",
              "0           21.00            10\n",
              "1           13.50             4\n",
              "2           19.75             6\n",
              "3           24.00             9\n",
              "4           29.00            10\n",
              "5           15.35             6\n",
              "6           19.00             7\n",
              "7            9.50             3\n",
              "8           17.90            10\n",
              "9           18.75             9\n",
              "10          19.83             8\n",
              "11          10.75             4\n",
              "12          16.68             7\n",
              "13          11.50             3\n",
              "14          12.03             3\n",
              "15          14.88             4\n",
              "16          13.75             6\n",
              "17          18.11             7\n",
              "18           8.00             2\n",
              "19          17.83             7\n",
              "20          21.50             5"
            ]
          },
          "metadata": {},
          "execution_count": 256
        }
      ]
    },
    {
      "cell_type": "markdown",
      "metadata": {
        "id": "JcPddXkH3uXb"
      },
      "source": [
        "# **EDA and Data Visualization**"
      ]
    },
    {
      "cell_type": "code",
      "metadata": {
        "colab": {
          "base_uri": "https://localhost:8080/"
        },
        "id": "wBtc-GEJ3reu",
        "outputId": "bee55153-104f-41ce-f365-d471c4d8fb0b"
      },
      "source": [
        "dataset.info()"
      ],
      "execution_count": 257,
      "outputs": [
        {
          "output_type": "stream",
          "name": "stdout",
          "text": [
            "<class 'pandas.core.frame.DataFrame'>\n",
            "RangeIndex: 21 entries, 0 to 20\n",
            "Data columns (total 2 columns):\n",
            " #   Column         Non-Null Count  Dtype  \n",
            "---  ------         --------------  -----  \n",
            " 0   Delivery Time  21 non-null     float64\n",
            " 1   Sorting Time   21 non-null     int64  \n",
            "dtypes: float64(1), int64(1)\n",
            "memory usage: 464.0 bytes\n"
          ]
        }
      ]
    },
    {
      "cell_type": "code",
      "metadata": {
        "colab": {
          "base_uri": "https://localhost:8080/",
          "height": 351
        },
        "id": "T7Z8LUcD3xYe",
        "outputId": "98fe9d7e-2ac0-43c6-d19f-d21d33dca5b1"
      },
      "source": [
        "sns.distplot(dataset['Delivery Time'])"
      ],
      "execution_count": 258,
      "outputs": [
        {
          "output_type": "stream",
          "name": "stderr",
          "text": [
            "/usr/local/lib/python3.7/dist-packages/seaborn/distributions.py:2619: FutureWarning: `distplot` is a deprecated function and will be removed in a future version. Please adapt your code to use either `displot` (a figure-level function with similar flexibility) or `histplot` (an axes-level function for histograms).\n",
            "  warnings.warn(msg, FutureWarning)\n"
          ]
        },
        {
          "output_type": "execute_result",
          "data": {
            "text/plain": [
              "<matplotlib.axes._subplots.AxesSubplot at 0x7f62dec79150>"
            ]
          },
          "metadata": {},
          "execution_count": 258
        },
        {
          "output_type": "display_data",
          "data": {
            "image/png": "[encoded data removed]",
            "text/plain": [
              "<Figure size 432x288 with 1 Axes>"
            ]
          },
          "metadata": {
            "needs_background": "light"
          }
        }
      ]
    },
    {
      "cell_type": "code",
      "metadata": {
        "colab": {
          "base_uri": "https://localhost:8080/",
          "height": 351
        },
        "id": "o7Vb1Elp3zRE",
        "outputId": "87449465-e97e-4a56-af01-fb1588a9c588"
      },
      "source": [
        "sns.distplot(dataset['Sorting Time'])"
      ],
      "execution_count": 259,
      "outputs": [
        {
          "output_type": "stream",
          "name": "stderr",
          "text": [
            "/usr/local/lib/python3.7/dist-packages/seaborn/distributions.py:2619: FutureWarning: `distplot` is a deprecated function and will be removed in a future version. Please adapt your code to use either `displot` (a figure-level function with similar flexibility) or `histplot` (an axes-level function for histograms).\n",
            "  warnings.warn(msg, FutureWarning)\n"
          ]
        },
        {
          "output_type": "execute_result",
          "data": {
            "text/plain": [
              "<matplotlib.axes._subplots.AxesSubplot at 0x7f62db999390>"
            ]
          },
          "metadata": {},
          "execution_count": 259
        },
        {
          "output_type": "display_data",
          "data": {
            "image/png": "[encoded data removed]",
            "text/plain": [
              "<Figure size 432x288 with 1 Axes>"
            ]
          },
          "metadata": {
            "needs_background": "light"
          }
        }
      ]
    },
    {
      "cell_type": "markdown",
      "metadata": {
        "id": "aM3Excop33Mb"
      },
      "source": [
        "# **Feature Engineering**"
      ]
    },
    {
      "cell_type": "code",
      "metadata": {
        "colab": {
          "base_uri": "https://localhost:8080/",
          "height": 708
        },
        "id": "iNjAZIjr30_O",
        "outputId": "aeecb875-779f-4d07-b2db-ba14eab6e2d0"
      },
      "source": [
        "# Renaming Columns\n",
        "dataset=dataset.rename({'Delivery Time':'delivery_time', 'Sorting Time':'sorting_time'},axis=1)\n",
        "dataset"
      ],
      "execution_count": 260,
      "outputs": [
        {
          "output_type": "execute_result",
          "data": {
            "text/html": [
              "<div>\n",
              "<style scoped>\n",
              "    .dataframe tbody tr th:only-of-type {\n",
              "        vertical-align: middle;\n",
              "    }\n",
              "\n",
              "    .dataframe tbody tr th {\n",
              "        vertical-align: top;\n",
              "    }\n",
              "\n",
              "    .dataframe thead th {\n",
              "        text-align: right;\n",
              "    }\n",
              "</style>\n",
              "<table border=\"1\" class=\"dataframe\">\n",
              "  <thead>\n",
              "    <tr style=\"text-align: right;\">\n",
              "      <th></th>\n",
              "      <th>delivery_time</th>\n",
              "      <th>sorting_time</th>\n",
              "    </tr>\n",
              "  </thead>\n",
              "  <tbody>\n",
              "    <tr>\n",
              "      <th>0</th>\n",
              "      <td>21.00</td>\n",
              "      <td>10</td>\n",
              "    </tr>\n",
              "    <tr>\n",
              "      <th>1</th>\n",
              "      <td>13.50</td>\n",
              "      <td>4</td>\n",
              "    </tr>\n",
              "    <tr>\n",
              "      <th>2</th>\n",
              "      <td>19.75</td>\n",
              "      <td>6</td>\n",
              "    </tr>\n",
              "    <tr>\n",
              "      <th>3</th>\n",
              "      <td>24.00</td>\n",
              "      <td>9</td>\n",
              "    </tr>\n",
              "    <tr>\n",
              "      <th>4</th>\n",
              "      <td>29.00</td>\n",
              "      <td>10</td>\n",
              "    </tr>\n",
              "    <tr>\n",
              "      <th>5</th>\n",
              "      <td>15.35</td>\n",
              "      <td>6</td>\n",
              "    </tr>\n",
              "    <tr>\n",
              "      <th>6</th>\n",
              "      <td>19.00</td>\n",
              "      <td>7</td>\n",
              "    </tr>\n",
              "    <tr>\n",
              "      <th>7</th>\n",
              "      <td>9.50</td>\n",
              "      <td>3</td>\n",
              "    </tr>\n",
              "    <tr>\n",
              "      <th>8</th>\n",
              "      <td>17.90</td>\n",
              "      <td>10</td>\n",
              "    </tr>\n",
              "    <tr>\n",
              "      <th>9</th>\n",
              "      <td>18.75</td>\n",
              "      <td>9</td>\n",
              "    </tr>\n",
              "    <tr>\n",
              "      <th>10</th>\n",
              "      <td>19.83</td>\n",
              "      <td>8</td>\n",
              "    </tr>\n",
              "    <tr>\n",
              "      <th>11</th>\n",
              "      <td>10.75</td>\n",
              "      <td>4</td>\n",
              "    </tr>\n",
              "    <tr>\n",
              "      <th>12</th>\n",
              "      <td>16.68</td>\n",
              "      <td>7</td>\n",
              "    </tr>\n",
              "    <tr>\n",
              "      <th>13</th>\n",
              "      <td>11.50</td>\n",
              "      <td>3</td>\n",
              "    </tr>\n",
              "    <tr>\n",
              "      <th>14</th>\n",
              "      <td>12.03</td>\n",
              "      <td>3</td>\n",
              "    </tr>\n",
              "    <tr>\n",
              "      <th>15</th>\n",
              "      <td>14.88</td>\n",
              "      <td>4</td>\n",
              "    </tr>\n",
              "    <tr>\n",
              "      <th>16</th>\n",
              "      <td>13.75</td>\n",
              "      <td>6</td>\n",
              "    </tr>\n",
              "    <tr>\n",
              "      <th>17</th>\n",
              "      <td>18.11</td>\n",
              "      <td>7</td>\n",
              "    </tr>\n",
              "    <tr>\n",
              "      <th>18</th>\n",
              "      <td>8.00</td>\n",
              "      <td>2</td>\n",
              "    </tr>\n",
              "    <tr>\n",
              "      <th>19</th>\n",
              "      <td>17.83</td>\n",
              "      <td>7</td>\n",
              "    </tr>\n",
              "    <tr>\n",
              "      <th>20</th>\n",
              "      <td>21.50</td>\n",
              "      <td>5</td>\n",
              "    </tr>\n",
              "  </tbody>\n",
              "</table>\n",
              "</div>"
            ],
            "text/plain": [
              "    delivery_time  sorting_time\n",
              "0           21.00            10\n",
              "1           13.50             4\n",
              "2           19.75             6\n",
              "3           24.00             9\n",
              "4           29.00            10\n",
              "5           15.35             6\n",
              "6           19.00             7\n",
              "7            9.50             3\n",
              "8           17.90            10\n",
              "9           18.75             9\n",
              "10          19.83             8\n",
              "11          10.75             4\n",
              "12          16.68             7\n",
              "13          11.50             3\n",
              "14          12.03             3\n",
              "15          14.88             4\n",
              "16          13.75             6\n",
              "17          18.11             7\n",
              "18           8.00             2\n",
              "19          17.83             7\n",
              "20          21.50             5"
            ]
          },
          "metadata": {},
          "execution_count": 260
        }
      ]
    },
    {
      "cell_type": "markdown",
      "metadata": {
        "id": "Zge0oQ5K4A71"
      },
      "source": [
        "# **Correlation Analysis**"
      ]
    },
    {
      "cell_type": "code",
      "metadata": {
        "colab": {
          "base_uri": "https://localhost:8080/",
          "height": 112
        },
        "id": "fC0Q3Uof4Bm1",
        "outputId": "d80abc6e-b8c4-448d-fc16-3b9fcb2a8182"
      },
      "source": [
        "dataset.corr()"
      ],
      "execution_count": 261,
      "outputs": [
        {
          "output_type": "execute_result",
          "data": {
            "text/html": [
              "<div>\n",
              "<style scoped>\n",
              "    .dataframe tbody tr th:only-of-type {\n",
              "        vertical-align: middle;\n",
              "    }\n",
              "\n",
              "    .dataframe tbody tr th {\n",
              "        vertical-align: top;\n",
              "    }\n",
              "\n",
              "    .dataframe thead th {\n",
              "        text-align: right;\n",
              "    }\n",
              "</style>\n",
              "<table border=\"1\" class=\"dataframe\">\n",
              "  <thead>\n",
              "    <tr style=\"text-align: right;\">\n",
              "      <th></th>\n",
              "      <th>delivery_time</th>\n",
              "      <th>sorting_time</th>\n",
              "    </tr>\n",
              "  </thead>\n",
              "  <tbody>\n",
              "    <tr>\n",
              "      <th>delivery_time</th>\n",
              "      <td>1.000000</td>\n",
              "      <td>0.825997</td>\n",
              "    </tr>\n",
              "    <tr>\n",
              "      <th>sorting_time</th>\n",
              "      <td>0.825997</td>\n",
              "      <td>1.000000</td>\n",
              "    </tr>\n",
              "  </tbody>\n",
              "</table>\n",
              "</div>"
            ],
            "text/plain": [
              "               delivery_time  sorting_time\n",
              "delivery_time       1.000000      0.825997\n",
              "sorting_time        0.825997      1.000000"
            ]
          },
          "metadata": {},
          "execution_count": 261
        }
      ]
    },
    {
      "cell_type": "code",
      "metadata": {
        "colab": {
          "base_uri": "https://localhost:8080/",
          "height": 302
        },
        "id": "7UpY5MD44Dvl",
        "outputId": "ba22e2c4-b0ca-4ea0-edde-b10035712d73"
      },
      "source": [
        "sns.regplot(x=dataset['sorting_time'],y=dataset['delivery_time'])"
      ],
      "execution_count": 262,
      "outputs": [
        {
          "output_type": "execute_result",
          "data": {
            "text/plain": [
              "<matplotlib.axes._subplots.AxesSubplot at 0x7f62d2db1b90>"
            ]
          },
          "metadata": {},
          "execution_count": 262
        },
        {
          "output_type": "display_data",
          "data": {
            "image/png": "[encoded data removed]",
            "text/plain": [
              "<Figure size 432x288 with 1 Axes>"
            ]
          },
          "metadata": {
            "needs_background": "light"
          }
        }
      ]
    },
    {
      "cell_type": "markdown",
      "metadata": {
        "id": "CMUstqb04Iyt"
      },
      "source": [
        "# **Model Building (Simple linear Regression Model)**"
      ]
    },
    {
      "cell_type": "code",
      "metadata": {
        "id": "zUKVqDXX4GQn"
      },
      "source": [
        "model=smf.ols(\"delivery_time~sorting_time\",data=dataset).fit()"
      ],
      "execution_count": 263,
      "outputs": []
    },
    {
      "cell_type": "markdown",
      "metadata": {
        "id": "gJq36Pmj4RDI"
      },
      "source": [
        "**Model Testing**"
      ]
    },
    {
      "cell_type": "code",
      "metadata": {
        "colab": {
          "base_uri": "https://localhost:8080/"
        },
        "id": "z6jmH6Rz4M6G",
        "outputId": "b6dedf2e-be17-4d3f-98a7-ee05118dd728"
      },
      "source": [
        "# Finding Coefficient parameters\n",
        "model.params"
      ],
      "execution_count": 264,
      "outputs": [
        {
          "output_type": "execute_result",
          "data": {
            "text/plain": [
              "Intercept       6.582734\n",
              "sorting_time    1.649020\n",
              "dtype: float64"
            ]
          },
          "metadata": {},
          "execution_count": 264
        }
      ]
    },
    {
      "cell_type": "code",
      "metadata": {
        "colab": {
          "base_uri": "https://localhost:8080/"
        },
        "id": "v787a5fG4TvU",
        "outputId": "cd10855a-5d7c-479a-b2a1-218ec9638218"
      },
      "source": [
        "# Finding tvalues and pvalues\n",
        "model.tvalues , model.pvalues"
      ],
      "execution_count": 265,
      "outputs": [
        {
          "output_type": "execute_result",
          "data": {
            "text/plain": [
              "(Intercept       3.823349\n",
              " sorting_time    6.387447\n",
              " dtype: float64, Intercept       0.001147\n",
              " sorting_time    0.000004\n",
              " dtype: float64)"
            ]
          },
          "metadata": {},
          "execution_count": 265
        }
      ]
    },
    {
      "cell_type": "code",
      "metadata": {
        "colab": {
          "base_uri": "https://localhost:8080/"
        },
        "id": "g15-gYn14Vwf",
        "outputId": "dad9dd3a-f379-4cf0-c855-a7a87f3a280d"
      },
      "source": [
        "# Finding Rsquared Values\n",
        "model.rsquared , model.rsquared_adj"
      ],
      "execution_count": 266,
      "outputs": [
        {
          "output_type": "execute_result",
          "data": {
            "text/plain": [
              "(0.6822714748417231, 0.6655489208860244)"
            ]
          },
          "metadata": {},
          "execution_count": 266
        }
      ]
    },
    {
      "cell_type": "markdown",
      "metadata": {
        "id": "QVEMmKG-4dSn"
      },
      "source": [
        "# **Model Building (Logrithm Transformation Model)**"
      ]
    },
    {
      "cell_type": "code",
      "metadata": {
        "id": "xf72VYfw41rm"
      },
      "source": [
        "import numpy as np\n",
        "from sklearn.linear_model import LinearRegression"
      ],
      "execution_count": 267,
      "outputs": []
    },
    {
      "cell_type": "code",
      "metadata": {
        "id": "UxfTJPd44Xxh"
      },
      "source": [
        "modellog=smf.ols(\"delivery_time~np.log(sorting_time)\",data=dataset).fit()"
      ],
      "execution_count": 268,
      "outputs": []
    },
    {
      "cell_type": "markdown",
      "metadata": {
        "id": "GIBZWocG6b1d"
      },
      "source": [
        "**Model Testing**"
      ]
    },
    {
      "cell_type": "code",
      "metadata": {
        "colab": {
          "base_uri": "https://localhost:8080/"
        },
        "id": "A9KQGauJ6Xyh",
        "outputId": "6de94cd1-828a-437d-97ea-507bb6bc546c"
      },
      "source": [
        "# Finding Coefficient parameters\n",
        "modellog.params"
      ],
      "execution_count": 269,
      "outputs": [
        {
          "output_type": "execute_result",
          "data": {
            "text/plain": [
              "Intercept               1.159684\n",
              "np.log(sorting_time)    9.043413\n",
              "dtype: float64"
            ]
          },
          "metadata": {},
          "execution_count": 269
        }
      ]
    },
    {
      "cell_type": "code",
      "metadata": {
        "colab": {
          "base_uri": "https://localhost:8080/"
        },
        "id": "sD6dviOb6j82",
        "outputId": "22a2a136-7640-4473-8b93-3e67f1cb577e"
      },
      "source": [
        "# Finding tvalues and pvalues\n",
        "modellog.tvalues , modellog.pvalues"
      ],
      "execution_count": 270,
      "outputs": [
        {
          "output_type": "execute_result",
          "data": {
            "text/plain": [
              "(Intercept               0.472460\n",
              " np.log(sorting_time)    6.586789\n",
              " dtype: float64, Intercept               0.641980\n",
              " np.log(sorting_time)    0.000003\n",
              " dtype: float64)"
            ]
          },
          "metadata": {},
          "execution_count": 270
        }
      ]
    },
    {
      "cell_type": "code",
      "metadata": {
        "colab": {
          "base_uri": "https://localhost:8080/"
        },
        "id": "rvXtnRsT6nx-",
        "outputId": "8fb4c486-d34f-40aa-a8da-3c93de5bb007"
      },
      "source": [
        "# Finding Rsquared Values\n",
        "modellog.rsquared , modellog.rsquared_adj"
      ],
      "execution_count": 271,
      "outputs": [
        {
          "output_type": "execute_result",
          "data": {
            "text/plain": [
              "(0.6954434611324224, 0.6794141696130762)"
            ]
          },
          "metadata": {},
          "execution_count": 271
        }
      ]
    },
    {
      "cell_type": "markdown",
      "metadata": {
        "id": "H_wuYzjW6vcq"
      },
      "source": [
        "# **Model Building (Square root Transformation Model)**"
      ]
    },
    {
      "cell_type": "code",
      "metadata": {
        "id": "GwVwMNm36qqI"
      },
      "source": [
        "modelsqrt=smf.ols(\"delivery_time~np.sqrt(sorting_time)\",data=dataset).fit()"
      ],
      "execution_count": 272,
      "outputs": []
    },
    {
      "cell_type": "markdown",
      "metadata": {
        "id": "eNGaPdHD8bjM"
      },
      "source": [
        "**Model Testing**"
      ]
    },
    {
      "cell_type": "code",
      "metadata": {
        "colab": {
          "base_uri": "https://localhost:8080/"
        },
        "id": "Jcesyy_z8m4r",
        "outputId": "5a9572de-5666-4f5d-80e4-883094f9160b"
      },
      "source": [
        "# Finding Coefficient parameters\n",
        "modelsqrt.params"
      ],
      "execution_count": 273,
      "outputs": [
        {
          "output_type": "execute_result",
          "data": {
            "text/plain": [
              "Intercept               -2.518837\n",
              "np.sqrt(sorting_time)    7.936591\n",
              "dtype: float64"
            ]
          },
          "metadata": {},
          "execution_count": 273
        }
      ]
    },
    {
      "cell_type": "code",
      "metadata": {
        "colab": {
          "base_uri": "https://localhost:8080/"
        },
        "id": "c2iiVXh48rwn",
        "outputId": "36dcf568-114c-4608-f8b1-0a15be84005f"
      },
      "source": [
        "# Finding tvalues and pvalues\n",
        "modelsqrt.tvalues , modelsqrt.pvalues"
      ],
      "execution_count": 274,
      "outputs": [
        {
          "output_type": "execute_result",
          "data": {
            "text/plain": [
              "(Intercept               -0.840911\n",
              " np.sqrt(sorting_time)    6.592434\n",
              " dtype: float64, Intercept                0.410857\n",
              " np.sqrt(sorting_time)    0.000003\n",
              " dtype: float64)"
            ]
          },
          "metadata": {},
          "execution_count": 274
        }
      ]
    },
    {
      "cell_type": "code",
      "metadata": {
        "colab": {
          "base_uri": "https://localhost:8080/"
        },
        "id": "1eyQBygn9DVh",
        "outputId": "e313aff4-94f4-411d-dba1-0ce6a7090c7a"
      },
      "source": [
        "# Finding Rsquared Values\n",
        "modelsqrt.rsquared , modelsqrt.rsquared_adj"
      ],
      "execution_count": 275,
      "outputs": [
        {
          "output_type": "execute_result",
          "data": {
            "text/plain": [
              "(0.695806227630867, 0.6797960290851232)"
            ]
          },
          "metadata": {},
          "execution_count": 275
        }
      ]
    },
    {
      "cell_type": "markdown",
      "metadata": {
        "id": "CYoFDw3n9VdG"
      },
      "source": [
        "# **Model Building (Exponential Transformation Model)**"
      ]
    },
    {
      "cell_type": "code",
      "metadata": {
        "id": "T5DHUolo9eLn"
      },
      "source": [
        "modelexpo=smf.ols(\"delivery_time~np.exp(sorting_time)\",data=dataset).fit()"
      ],
      "execution_count": 276,
      "outputs": []
    },
    {
      "cell_type": "markdown",
      "metadata": {
        "id": "ezht8u289pV3"
      },
      "source": [
        "**Model Testing**"
      ]
    },
    {
      "cell_type": "code",
      "metadata": {
        "colab": {
          "base_uri": "https://localhost:8080/"
        },
        "id": "p61pvBX09rE4",
        "outputId": "a1ac08e2-a128-448b-8121-bdfe22b63849"
      },
      "source": [
        "# Finding Coefficient parameters\n",
        "modelexpo.params"
      ],
      "execution_count": 277,
      "outputs": [
        {
          "output_type": "execute_result",
          "data": {
            "text/plain": [
              "Intercept               15.083578\n",
              "np.exp(sorting_time)     0.000393\n",
              "dtype: float64"
            ]
          },
          "metadata": {},
          "execution_count": 277
        }
      ]
    },
    {
      "cell_type": "code",
      "metadata": {
        "colab": {
          "base_uri": "https://localhost:8080/"
        },
        "id": "SVtzOFUW9u0C",
        "outputId": "0738149a-cdbc-4779-bbed-c57e39818623"
      },
      "source": [
        "# Finding tvalues and pvalues\n",
        "modelexpo.tvalues , modelexpo.pvalues"
      ],
      "execution_count": 278,
      "outputs": [
        {
          "output_type": "execute_result",
          "data": {
            "text/plain": [
              "(Intercept               14.406456\n",
              " np.exp(sorting_time)     3.277108\n",
              " dtype: float64, Intercept               1.117304e-11\n",
              " np.exp(sorting_time)    3.964511e-03\n",
              " dtype: float64)"
            ]
          },
          "metadata": {},
          "execution_count": 278
        }
      ]
    },
    {
      "cell_type": "code",
      "metadata": {
        "colab": {
          "base_uri": "https://localhost:8080/"
        },
        "id": "dAn3x9ot9z_J",
        "outputId": "3ef2d772-d118-4ac8-e351-29caabc8a6b3"
      },
      "source": [
        "# Finding Rsquared Values\n",
        "modelexpo.rsquared , modelexpo.rsquared_adj"
      ],
      "execution_count": 279,
      "outputs": [
        {
          "output_type": "execute_result",
          "data": {
            "text/plain": [
              "(0.3611177022709089, 0.3274923181799041)"
            ]
          },
          "metadata": {},
          "execution_count": 279
        }
      ]
    },
    {
      "cell_type": "markdown",
      "metadata": {
        "id": "DBeRrh1B-FU-"
      },
      "source": [
        "# **Model Building (Sin Transformation Model)**"
      ]
    },
    {
      "cell_type": "code",
      "metadata": {
        "id": "mLIL7thZ-Min"
      },
      "source": [
        "modelsin=smf.ols(\"delivery_time~np.sin(sorting_time)\",data=dataset).fit()"
      ],
      "execution_count": 280,
      "outputs": []
    },
    {
      "cell_type": "markdown",
      "metadata": {
        "id": "UAMOr_eGEppH"
      },
      "source": [
        "**Model Testing**"
      ]
    },
    {
      "cell_type": "code",
      "metadata": {
        "colab": {
          "base_uri": "https://localhost:8080/"
        },
        "id": "0J6fIgU5-SSm",
        "outputId": "ac52a8a3-fa74-46ac-cba1-850fbbe32af4"
      },
      "source": [
        "# Finding Coefficient parameters\n",
        "modelsin.params"
      ],
      "execution_count": 281,
      "outputs": [
        {
          "output_type": "execute_result",
          "data": {
            "text/plain": [
              "Intercept               16.793650\n",
              "np.sin(sorting_time)    -0.759948\n",
              "dtype: float64"
            ]
          },
          "metadata": {},
          "execution_count": 281
        }
      ]
    },
    {
      "cell_type": "code",
      "metadata": {
        "colab": {
          "base_uri": "https://localhost:8080/"
        },
        "id": "CZJ4fnVrEsUD",
        "outputId": "22902c7f-d013-42cc-e91d-2ea4da3cab21"
      },
      "source": [
        "# Finding tvalues and pvalues\n",
        "modelsin.tvalues , modelsin.pvalues"
      ],
      "execution_count": 282,
      "outputs": [
        {
          "output_type": "execute_result",
          "data": {
            "text/plain": [
              "(Intercept               14.844384\n",
              " np.sin(sorting_time)    -0.406534\n",
              " dtype: float64, Intercept               6.611298e-12\n",
              " np.sin(sorting_time)    6.888931e-01\n",
              " dtype: float64)"
            ]
          },
          "metadata": {},
          "execution_count": 282
        }
      ]
    },
    {
      "cell_type": "code",
      "metadata": {
        "colab": {
          "base_uri": "https://localhost:8080/"
        },
        "id": "MMwt3TQ2Eu07",
        "outputId": "755dca11-894d-47b4-e67f-e2d64c7dad2a"
      },
      "source": [
        "# Finding Rsquared Values\n",
        "modelsin.rsquared , modelsin.rsquared_adj"
      ],
      "execution_count": 283,
      "outputs": [
        {
          "output_type": "execute_result",
          "data": {
            "text/plain": [
              "(0.008623399326598058, -0.04355431649831787)"
            ]
          },
          "metadata": {},
          "execution_count": 283
        }
      ]
    },
    {
      "cell_type": "markdown",
      "metadata": {
        "id": "H840WqLWE_-8"
      },
      "source": [
        "# **Model Building (cos Transformation Model)**"
      ]
    },
    {
      "cell_type": "code",
      "metadata": {
        "id": "I0BlT3zWEw-Q"
      },
      "source": [
        "modelcos=smf.ols(\"delivery_time~np.cos(sorting_time)\",data=dataset).fit()"
      ],
      "execution_count": 284,
      "outputs": []
    },
    {
      "cell_type": "markdown",
      "metadata": {
        "id": "BSYcDgA_GMFa"
      },
      "source": [
        "**Model Testing**"
      ]
    },
    {
      "cell_type": "code",
      "metadata": {
        "colab": {
          "base_uri": "https://localhost:8080/"
        },
        "id": "9TgKz8oJFKEL",
        "outputId": "c0340aed-e56e-43d7-86ac-77bac404c864"
      },
      "source": [
        "# Finding Coefficient parameters\n",
        "modelcos.params"
      ],
      "execution_count": 285,
      "outputs": [
        {
          "output_type": "execute_result",
          "data": {
            "text/plain": [
              "Intercept               16.899468\n",
              "np.cos(sorting_time)     0.623950\n",
              "dtype: float64"
            ]
          },
          "metadata": {},
          "execution_count": 285
        }
      ]
    },
    {
      "cell_type": "code",
      "metadata": {
        "colab": {
          "base_uri": "https://localhost:8080/"
        },
        "id": "M4oFPnHuGPXW",
        "outputId": "2f32af76-3bf0-42a2-8a8a-9d04dffe7bfb"
      },
      "source": [
        "# Finding tvalues and pvalues\n",
        "modelcos.tvalues , modelcos.pvalues"
      ],
      "execution_count": 286,
      "outputs": [
        {
          "output_type": "execute_result",
          "data": {
            "text/plain": [
              "(Intercept               14.584363\n",
              " np.cos(sorting_time)     0.428666\n",
              " dtype: float64, Intercept               9.013585e-12\n",
              " np.cos(sorting_time)    6.729869e-01\n",
              " dtype: float64)"
            ]
          },
          "metadata": {},
          "execution_count": 286
        }
      ]
    },
    {
      "cell_type": "code",
      "metadata": {
        "colab": {
          "base_uri": "https://localhost:8080/"
        },
        "id": "I3lJ3HWvGTNb",
        "outputId": "136e6c8d-d422-4af2-be0d-aba1af72f592"
      },
      "source": [
        "# Finding Rsquared Values\n",
        "modelcos.rsquared , modelcos.rsquared_adj"
      ],
      "execution_count": 287,
      "outputs": [
        {
          "output_type": "execute_result",
          "data": {
            "text/plain": [
              "(0.009578658981799548, -0.042548780019158405)"
            ]
          },
          "metadata": {},
          "execution_count": 287
        }
      ]
    },
    {
      "cell_type": "markdown",
      "metadata": {
        "id": "6UYkn55lGghR"
      },
      "source": [
        "# **Model Building (tan Transformation Model)**"
      ]
    },
    {
      "cell_type": "code",
      "metadata": {
        "id": "I0yIsMYXGc9c"
      },
      "source": [
        "modeltan=smf.ols(\"delivery_time~np.tan(sorting_time)\",data=dataset).fit()"
      ],
      "execution_count": 288,
      "outputs": []
    },
    {
      "cell_type": "markdown",
      "metadata": {
        "id": "LxcJp0deGj22"
      },
      "source": [
        "**Model Testing**"
      ]
    },
    {
      "cell_type": "code",
      "metadata": {
        "colab": {
          "base_uri": "https://localhost:8080/"
        },
        "id": "ig6WhAODGmtr",
        "outputId": "987d885e-5fe2-4c3e-a4ab-f64b1eeeb976"
      },
      "source": [
        "# Finding Coefficient parameters\n",
        "modeltan.params"
      ],
      "execution_count": 289,
      "outputs": [
        {
          "output_type": "execute_result",
          "data": {
            "text/plain": [
              "Intercept               16.727786\n",
              "np.tan(sorting_time)    -0.234105\n",
              "dtype: float64"
            ]
          },
          "metadata": {},
          "execution_count": 289
        }
      ]
    },
    {
      "cell_type": "code",
      "metadata": {
        "colab": {
          "base_uri": "https://localhost:8080/"
        },
        "id": "TYw-d3uLGnf4",
        "outputId": "0620ea86-b00f-4c3a-bb23-59cea3ef8b8a"
      },
      "source": [
        "# Finding tvalues and pvalues\n",
        "modeltan.tvalues , modeltan.pvalues"
      ],
      "execution_count": 290,
      "outputs": [
        {
          "output_type": "execute_result",
          "data": {
            "text/plain": [
              "(Intercept               14.618741\n",
              " np.tan(sorting_time)    -0.377462\n",
              " dtype: float64, Intercept               8.649371e-12\n",
              " np.tan(sorting_time)    7.100137e-01\n",
              " dtype: float64)"
            ]
          },
          "metadata": {},
          "execution_count": 290
        }
      ]
    },
    {
      "cell_type": "code",
      "metadata": {
        "colab": {
          "base_uri": "https://localhost:8080/"
        },
        "id": "7EirMtdGGnQb",
        "outputId": "907dc41d-be87-4697-87b7-e21b2bf9cdc7"
      },
      "source": [
        "# Finding Rsquared Values\n",
        "modeltan.rsquared , modeltan.rsquared_adj"
      ],
      "execution_count": 291,
      "outputs": [
        {
          "output_type": "execute_result",
          "data": {
            "text/plain": [
              "(0.007443004357947092, -0.04479683751795038)"
            ]
          },
          "metadata": {},
          "execution_count": 291
        }
      ]
    },
    {
      "cell_type": "markdown",
      "metadata": {
        "id": "y34BzHN_HEVF"
      },
      "source": [
        "# **Model Building (log1p Transformation Model)**"
      ]
    },
    {
      "cell_type": "code",
      "metadata": {
        "id": "RhITk3itG1mQ"
      },
      "source": [
        "modellog1p=smf.ols(\"delivery_time~np.log1p(sorting_time)\",data=dataset).fit()"
      ],
      "execution_count": 292,
      "outputs": []
    },
    {
      "cell_type": "markdown",
      "metadata": {
        "id": "L9nKy9T8Hfvq"
      },
      "source": [
        "**Model Testing**"
      ]
    },
    {
      "cell_type": "code",
      "metadata": {
        "colab": {
          "base_uri": "https://localhost:8080/"
        },
        "id": "_GIAAP_fHOeq",
        "outputId": "affda647-8228-488d-f85f-fbf42db1bfff"
      },
      "source": [
        "# Finding Coefficient parameters\n",
        "modellog1p.params"
      ],
      "execution_count": 293,
      "outputs": [
        {
          "output_type": "execute_result",
          "data": {
            "text/plain": [
              "Intercept                 -4.099013\n",
              "np.log1p(sorting_time)    10.959246\n",
              "dtype: float64"
            ]
          },
          "metadata": {},
          "execution_count": 293
        }
      ]
    },
    {
      "cell_type": "code",
      "metadata": {
        "colab": {
          "base_uri": "https://localhost:8080/"
        },
        "id": "wuEQmuviHi3Z",
        "outputId": "48db76fe-3855-45d0-86e6-4025cdf2286f"
      },
      "source": [
        "# Finding tvalues and pvalues\n",
        "modellog1p.tvalues , modellog1p.pvalues"
      ],
      "execution_count": 294,
      "outputs": [
        {
          "output_type": "execute_result",
          "data": {
            "text/plain": [
              "(Intercept                -1.272674\n",
              " np.log1p(sorting_time)    6.611817\n",
              " dtype: float64, Intercept                 0.218488\n",
              " np.log1p(sorting_time)    0.000003\n",
              " dtype: float64)"
            ]
          },
          "metadata": {},
          "execution_count": 294
        }
      ]
    },
    {
      "cell_type": "code",
      "metadata": {
        "colab": {
          "base_uri": "https://localhost:8080/"
        },
        "id": "a7EdUGqOHis4",
        "outputId": "3548ceea-90d2-4bea-e402-999ca756072f"
      },
      "source": [
        "# Finding Rsquared Values\n",
        "modellog1p.rsquared , modellog1p.rsquared_adj"
      ],
      "execution_count": 295,
      "outputs": [
        {
          "output_type": "execute_result",
          "data": {
            "text/plain": [
              "(0.6970476042045002, 0.6811027412678949)"
            ]
          },
          "metadata": {},
          "execution_count": 295
        }
      ]
    },
    {
      "cell_type": "markdown",
      "metadata": {
        "id": "0LFHaBP0LYPK"
      },
      "source": [
        "# **Model Building (Quadratic Transformation Model)**"
      ]
    },
    {
      "cell_type": "code",
      "metadata": {
        "id": "z_iyVC3VLljv"
      },
      "source": [
        "dataset['sq_sort_time']=dataset.sorting_time*dataset.sorting_time"
      ],
      "execution_count": 296,
      "outputs": []
    },
    {
      "cell_type": "code",
      "metadata": {
        "id": "i7Sx9e0yHwhT"
      },
      "source": [
        "modelquad=smf.ols(\"dataset.delivery_time~dataset.sq_sort_time+dataset.sorting_time\",data=dataset).fit()"
      ],
      "execution_count": 297,
      "outputs": []
    },
    {
      "cell_type": "markdown",
      "metadata": {
        "id": "rk38jdH2M62B"
      },
      "source": [
        "**Model Testing**"
      ]
    },
    {
      "cell_type": "code",
      "metadata": {
        "colab": {
          "base_uri": "https://localhost:8080/"
        },
        "id": "mJnOeLnuM28e",
        "outputId": "fcf21ef3-970e-4ef3-917d-159f88ccf54b"
      },
      "source": [
        "# Finding Coefficient parameters\n",
        "modelquad.params"
      ],
      "execution_count": 298,
      "outputs": [
        {
          "output_type": "execute_result",
          "data": {
            "text/plain": [
              "Intercept               3.522234\n",
              "dataset.sq_sort_time   -0.093198\n",
              "dataset.sorting_time    2.813002\n",
              "dtype: float64"
            ]
          },
          "metadata": {},
          "execution_count": 298
        }
      ]
    },
    {
      "cell_type": "code",
      "metadata": {
        "colab": {
          "base_uri": "https://localhost:8080/"
        },
        "id": "Q3N--V7sM8Nh",
        "outputId": "9a59b95f-cf88-458f-c933-cf254998c2fe"
      },
      "source": [
        "# Finding tvalues and pvalues\n",
        "modelquad.tvalues , modelquad.pvalues"
      ],
      "execution_count": 299,
      "outputs": [
        {
          "output_type": "execute_result",
          "data": {
            "text/plain": [
              "(Intercept               0.846756\n",
              " dataset.sq_sort_time   -0.809783\n",
              " dataset.sorting_time    1.925632\n",
              " dtype: float64, Intercept               0.408248\n",
              " dataset.sq_sort_time    0.428641\n",
              " dataset.sorting_time    0.070097\n",
              " dtype: float64)"
            ]
          },
          "metadata": {},
          "execution_count": 299
        }
      ]
    },
    {
      "cell_type": "code",
      "metadata": {
        "colab": {
          "base_uri": "https://localhost:8080/"
        },
        "id": "_87eKoH4M8EM",
        "outputId": "79a223ce-35cc-41e8-e161-c28f8231db79"
      },
      "source": [
        "# Finding Rsquared Values\n",
        "modelquad.rsquared , modelquad.rsquared_adj"
      ],
      "execution_count": 300,
      "outputs": [
        {
          "output_type": "execute_result",
          "data": {
            "text/plain": [
              "(0.6934396274520247, 0.659377363835583)"
            ]
          },
          "metadata": {},
          "execution_count": 300
        }
      ]
    },
    {
      "cell_type": "markdown",
      "metadata": {
        "id": "a_E4chwwPgMN"
      },
      "source": [
        "# **Model Building (Polynomial Transformation Model)**"
      ]
    },
    {
      "cell_type": "code",
      "metadata": {
        "id": "TWIT7P_bOohK"
      },
      "source": [
        "modelpoly=smf.ols(\"delivery_time~sorting_time+I(sorting_time^2)\",data=dataset).fit()"
      ],
      "execution_count": 301,
      "outputs": []
    },
    {
      "cell_type": "markdown",
      "metadata": {
        "id": "c0p0fcbyPnbv"
      },
      "source": [
        "**Model Testing**"
      ]
    },
    {
      "cell_type": "code",
      "metadata": {
        "colab": {
          "base_uri": "https://localhost:8080/"
        },
        "id": "5ZjyaHUEOoeN",
        "outputId": "ed7c8422-415b-4d1e-8c0d-5f0c51c712c0"
      },
      "source": [
        "# Finding Coefficient parameters\n",
        "modelpoly.params"
      ],
      "execution_count": 302,
      "outputs": [
        {
          "output_type": "execute_result",
          "data": {
            "text/plain": [
              "Intercept              6.783730\n",
              "sorting_time           1.319023\n",
              "I(sorting_time ^ 2)    0.333437\n",
              "dtype: float64"
            ]
          },
          "metadata": {},
          "execution_count": 302
        }
      ]
    },
    {
      "cell_type": "code",
      "metadata": {
        "colab": {
          "base_uri": "https://localhost:8080/"
        },
        "id": "bFpjA0oKOobf",
        "outputId": "5c4f16f4-b016-4dbe-a7b1-9ea1752b417f"
      },
      "source": [
        "# Finding tvalues and pvalues\n",
        "modelpoly.tvalues , modelpoly.pvalues"
      ],
      "execution_count": 303,
      "outputs": [
        {
          "output_type": "execute_result",
          "data": {
            "text/plain": [
              "(Intercept              3.908566\n",
              " sorting_time           3.108731\n",
              " I(sorting_time ^ 2)    0.980627\n",
              " dtype: float64, Intercept              0.001030\n",
              " sorting_time           0.006062\n",
              " I(sorting_time ^ 2)    0.339774\n",
              " dtype: float64)"
            ]
          },
          "metadata": {},
          "execution_count": 303
        }
      ]
    },
    {
      "cell_type": "code",
      "metadata": {
        "colab": {
          "base_uri": "https://localhost:8080/"
        },
        "id": "eDlKl797OoSk",
        "outputId": "8ca5599d-0261-459d-d62e-a9a71779fa25"
      },
      "source": [
        "# Finding Rsquared Values\n",
        "modelpoly.rsquared , modelpoly.rsquared_adj"
      ],
      "execution_count": 304,
      "outputs": [
        {
          "output_type": "execute_result",
          "data": {
            "text/plain": [
              "(0.6983849286381746, 0.6648721429313051)"
            ]
          },
          "metadata": {},
          "execution_count": 304
        }
      ]
    },
    {
      "cell_type": "markdown",
      "metadata": {
        "id": "8CebHZjnQGN1"
      },
      "source": [
        "# **Model Building (Cubic Transformation Model)**"
      ]
    },
    {
      "cell_type": "code",
      "metadata": {
        "id": "NaPA2txuQF48"
      },
      "source": [
        "modelcubic=smf.ols(\"delivery_time~sorting_time+I(sorting_time^2)+I(sorting_time^3)\",data=dataset).fit()"
      ],
      "execution_count": 305,
      "outputs": []
    },
    {
      "cell_type": "markdown",
      "metadata": {
        "id": "MQURrtGZQFQ0"
      },
      "source": [
        "**Model Testing**"
      ]
    },
    {
      "cell_type": "code",
      "metadata": {
        "colab": {
          "base_uri": "https://localhost:8080/"
        },
        "id": "ZdAjxszUNGMs",
        "outputId": "d32a8758-3fbe-4bb9-c335-bd892fb55429"
      },
      "source": [
        "# Finding Coefficient parameters\n",
        "modelcubic.params"
      ],
      "execution_count": 306,
      "outputs": [
        {
          "output_type": "execute_result",
          "data": {
            "text/plain": [
              "Intercept              6.733796\n",
              "sorting_time           1.316197\n",
              "I(sorting_time ^ 2)    0.791320\n",
              "I(sorting_time ^ 3)   -0.441867\n",
              "dtype: float64"
            ]
          },
          "metadata": {},
          "execution_count": 306
        }
      ]
    },
    {
      "cell_type": "code",
      "metadata": {
        "colab": {
          "base_uri": "https://localhost:8080/"
        },
        "id": "oaFk2qQXQRJe",
        "outputId": "23e2a8c3-45c6-4708-bd25-4d8c3195bc8a"
      },
      "source": [
        "# Finding tvalues and pvalues\n",
        "modelcubic.tvalues , modelcubic.pvalues"
      ],
      "execution_count": 307,
      "outputs": [
        {
          "output_type": "execute_result",
          "data": {
            "text/plain": [
              "(Intercept              3.817243\n",
              " sorting_time           3.054603\n",
              " I(sorting_time ^ 2)    1.039048\n",
              " I(sorting_time ^ 3)   -0.674540\n",
              " dtype: float64, Intercept              0.001378\n",
              " sorting_time           0.007168\n",
              " I(sorting_time ^ 2)    0.313336\n",
              " I(sorting_time ^ 3)    0.509038\n",
              " dtype: float64)"
            ]
          },
          "metadata": {},
          "execution_count": 307
        }
      ]
    },
    {
      "cell_type": "code",
      "metadata": {
        "colab": {
          "base_uri": "https://localhost:8080/"
        },
        "id": "dro06cfCQQ9A",
        "outputId": "1da418a2-89ba-4d3a-a7f9-5126448a897a"
      },
      "source": [
        "# Finding Rsquared Values\n",
        "modelcubic.rsquared , modelcubic.rsquared_adj"
      ],
      "execution_count": 308,
      "outputs": [
        {
          "output_type": "execute_result",
          "data": {
            "text/plain": [
              "(0.7062472047242188, 0.6544084761461397)"
            ]
          },
          "metadata": {},
          "execution_count": 308
        }
      ]
    },
    {
      "cell_type": "markdown",
      "metadata": {
        "id": "032SBcA_Ol1N"
      },
      "source": [
        "# **Model Building (Square root+Cubic Transformation Model)**"
      ]
    },
    {
      "cell_type": "code",
      "metadata": {
        "id": "dpjainlwSCUa"
      },
      "source": [
        "modelsqrtcubic=smf.ols(\"delivery_time~np.sqrt(sorting_time)+sorting_time+I(sorting_time^2)+I(sorting_time^3)\",data=dataset).fit()"
      ],
      "execution_count": 309,
      "outputs": []
    },
    {
      "cell_type": "markdown",
      "metadata": {
        "id": "puiIzhytSduw"
      },
      "source": [
        "**Model Testing**"
      ]
    },
    {
      "cell_type": "code",
      "metadata": {
        "colab": {
          "base_uri": "https://localhost:8080/"
        },
        "id": "S3-_560LSTWn",
        "outputId": "83508949-9fa4-4ffb-c0e8-3d40a0542883"
      },
      "source": [
        "# Finding Coefficient parameters\n",
        "modelsqrtcubic.params"
      ],
      "execution_count": 310,
      "outputs": [
        {
          "output_type": "execute_result",
          "data": {
            "text/plain": [
              "Intercept               -2.635899\n",
              "np.sqrt(sorting_time)    8.195203\n",
              "sorting_time            -0.349034\n",
              "I(sorting_time ^ 2)      0.672257\n",
              "I(sorting_time ^ 3)     -0.370619\n",
              "dtype: float64"
            ]
          },
          "metadata": {},
          "execution_count": 310
        }
      ]
    },
    {
      "cell_type": "code",
      "metadata": {
        "colab": {
          "base_uri": "https://localhost:8080/"
        },
        "id": "4lfwYHTaSgIB",
        "outputId": "1c25d382-4795-4efb-94d5-f8e05ca6f193"
      },
      "source": [
        "# Finding tvalues and pvalues\n",
        "modelsqrtcubic.tvalues , modelcubic.pvalues"
      ],
      "execution_count": 311,
      "outputs": [
        {
          "output_type": "execute_result",
          "data": {
            "text/plain": [
              "(Intercept               -0.178759\n",
              " np.sqrt(sorting_time)    0.640188\n",
              " sorting_time            -0.132316\n",
              " I(sorting_time ^ 2)      0.843322\n",
              " I(sorting_time ^ 3)     -0.548283\n",
              " dtype: float64, Intercept              0.001378\n",
              " sorting_time           0.007168\n",
              " I(sorting_time ^ 2)    0.313336\n",
              " I(sorting_time ^ 3)    0.509038\n",
              " dtype: float64)"
            ]
          },
          "metadata": {},
          "execution_count": 311
        }
      ]
    },
    {
      "cell_type": "code",
      "metadata": {
        "colab": {
          "base_uri": "https://localhost:8080/"
        },
        "id": "oCOxkK8WSf97",
        "outputId": "afa54c85-1856-4893-8362-815e37bb6bab"
      },
      "source": [
        "# Finding Rsquared Values\n",
        "modelsqrtcubic.rsquared , modelcubic.rsquared_adj"
      ],
      "execution_count": 312,
      "outputs": [
        {
          "output_type": "execute_result",
          "data": {
            "text/plain": [
              "(0.7135837714239137, 0.6544084761461397)"
            ]
          },
          "metadata": {},
          "execution_count": 312
        }
      ]
    },
    {
      "cell_type": "markdown",
      "metadata": {
        "id": "zg2XzeuuSwsI"
      },
      "source": [
        "All models results"
      ]
    },
    {
      "cell_type": "code",
      "metadata": {
        "colab": {
          "base_uri": "https://localhost:8080/"
        },
        "id": "mH2_dQrOSrwh",
        "outputId": "37debe69-7583-44dc-ff28-205aadf7b26a"
      },
      "source": [
        "#Simple linear Regression Model \n",
        "model.rsquared , model.rsquared_adj"
      ],
      "execution_count": 313,
      "outputs": [
        {
          "output_type": "execute_result",
          "data": {
            "text/plain": [
              "(0.6822714748417231, 0.6655489208860244)"
            ]
          },
          "metadata": {},
          "execution_count": 313
        }
      ]
    },
    {
      "cell_type": "code",
      "metadata": {
        "colab": {
          "base_uri": "https://localhost:8080/"
        },
        "id": "sdA1d0xrUQ3h",
        "outputId": "f33d81c6-8556-4074-f08f-a91be2cc547d"
      },
      "source": [
        "#Logrithm Transformation Model  \n",
        "modellog.rsquared , modellog.rsquared_adj"
      ],
      "execution_count": 314,
      "outputs": [
        {
          "output_type": "execute_result",
          "data": {
            "text/plain": [
              "(0.6954434611324224, 0.6794141696130762)"
            ]
          },
          "metadata": {},
          "execution_count": 314
        }
      ]
    },
    {
      "cell_type": "code",
      "metadata": {
        "colab": {
          "base_uri": "https://localhost:8080/"
        },
        "id": "Y8QfrTIMUWR_",
        "outputId": "5a54ea59-6025-4b0d-94bd-de461909d186"
      },
      "source": [
        "#Square root Transformation Model \n",
        "modelsqrt.rsquared , modelsqrt.rsquared_adj"
      ],
      "execution_count": 315,
      "outputs": [
        {
          "output_type": "execute_result",
          "data": {
            "text/plain": [
              "(0.695806227630867, 0.6797960290851232)"
            ]
          },
          "metadata": {},
          "execution_count": 315
        }
      ]
    },
    {
      "cell_type": "code",
      "metadata": {
        "colab": {
          "base_uri": "https://localhost:8080/"
        },
        "id": "p7TFOMrlUack",
        "outputId": "9cdb90c6-15c0-43ff-ae1d-ea848a9ab401"
      },
      "source": [
        "#Exponential Transformation Model \n",
        "modelexpo.rsquared , modelexpo.rsquared_adj"
      ],
      "execution_count": 316,
      "outputs": [
        {
          "output_type": "execute_result",
          "data": {
            "text/plain": [
              "(0.3611177022709089, 0.3274923181799041)"
            ]
          },
          "metadata": {},
          "execution_count": 316
        }
      ]
    },
    {
      "cell_type": "code",
      "metadata": {
        "colab": {
          "base_uri": "https://localhost:8080/"
        },
        "id": "TDBQBdinUfuS",
        "outputId": "e909aba2-5258-4aa3-882e-d06bd2a685d7"
      },
      "source": [
        "#Sin Transformation Model \n",
        "modelsin.rsquared , modelsin.rsquared_adj"
      ],
      "execution_count": 317,
      "outputs": [
        {
          "output_type": "execute_result",
          "data": {
            "text/plain": [
              "(0.008623399326598058, -0.04355431649831787)"
            ]
          },
          "metadata": {},
          "execution_count": 317
        }
      ]
    },
    {
      "cell_type": "code",
      "metadata": {
        "colab": {
          "base_uri": "https://localhost:8080/"
        },
        "id": "9xKvMIuyUlbu",
        "outputId": "7bffcded-565c-4f1a-981c-7011865b90f8"
      },
      "source": [
        "#cos Transformation Model  \n",
        "modelcos.rsquared , modelcos.rsquared_adj"
      ],
      "execution_count": 318,
      "outputs": [
        {
          "output_type": "execute_result",
          "data": {
            "text/plain": [
              "(0.009578658981799548, -0.042548780019158405)"
            ]
          },
          "metadata": {},
          "execution_count": 318
        }
      ]
    },
    {
      "cell_type": "code",
      "metadata": {
        "colab": {
          "base_uri": "https://localhost:8080/"
        },
        "id": "wBUik4TBUpvp",
        "outputId": "0d85937b-5db7-4885-9bdb-d605e38de23e"
      },
      "source": [
        "#tan Transformation Model \n",
        "modeltan.rsquared , modeltan.rsquared_adj"
      ],
      "execution_count": 319,
      "outputs": [
        {
          "output_type": "execute_result",
          "data": {
            "text/plain": [
              "(0.007443004357947092, -0.04479683751795038)"
            ]
          },
          "metadata": {},
          "execution_count": 319
        }
      ]
    },
    {
      "cell_type": "code",
      "metadata": {
        "colab": {
          "base_uri": "https://localhost:8080/"
        },
        "id": "8BxU5t-CUuQq",
        "outputId": "92336ade-36ab-4a5f-dd56-6ee51257a9fb"
      },
      "source": [
        "#log1p Transformation Model \n",
        "modellog1p.rsquared , modellog1p.rsquared_adj"
      ],
      "execution_count": 320,
      "outputs": [
        {
          "output_type": "execute_result",
          "data": {
            "text/plain": [
              "(0.6970476042045002, 0.6811027412678949)"
            ]
          },
          "metadata": {},
          "execution_count": 320
        }
      ]
    },
    {
      "cell_type": "code",
      "metadata": {
        "colab": {
          "base_uri": "https://localhost:8080/"
        },
        "id": "agWQNTlPUz_x",
        "outputId": "42e6671c-1fbf-4041-ed09-69db039a2f3a"
      },
      "source": [
        "#Quadratic Transformation Model  \n",
        "modelquad.rsquared , modelquad.rsquared_adj"
      ],
      "execution_count": 321,
      "outputs": [
        {
          "output_type": "execute_result",
          "data": {
            "text/plain": [
              "(0.6934396274520247, 0.659377363835583)"
            ]
          },
          "metadata": {},
          "execution_count": 321
        }
      ]
    },
    {
      "cell_type": "code",
      "metadata": {
        "colab": {
          "base_uri": "https://localhost:8080/"
        },
        "id": "nA42ASxhU3xj",
        "outputId": "4f84f4a1-2cba-45ae-93ce-3b5ce4a6a927"
      },
      "source": [
        "#Polynomial Transformation Model \n",
        "modelpoly.rsquared , modelpoly.rsquared_adj"
      ],
      "execution_count": 322,
      "outputs": [
        {
          "output_type": "execute_result",
          "data": {
            "text/plain": [
              "(0.6983849286381746, 0.6648721429313051)"
            ]
          },
          "metadata": {},
          "execution_count": 322
        }
      ]
    },
    {
      "cell_type": "code",
      "metadata": {
        "colab": {
          "base_uri": "https://localhost:8080/"
        },
        "id": "GqJpbptZU8OZ",
        "outputId": "4417b973-1046-44cb-9f20-7ed26a33f195"
      },
      "source": [
        "#Cubic Transformation Model \n",
        "modelcubic.rsquared , modelcubic.rsquared_adj "
      ],
      "execution_count": 323,
      "outputs": [
        {
          "output_type": "execute_result",
          "data": {
            "text/plain": [
              "(0.7062472047242188, 0.6544084761461397)"
            ]
          },
          "metadata": {},
          "execution_count": 323
        }
      ]
    },
    {
      "cell_type": "code",
      "metadata": {
        "colab": {
          "base_uri": "https://localhost:8080/"
        },
        "id": "3JGRBciAVAjZ",
        "outputId": "35b74944-4fae-430e-e888-8951b99e0cd3"
      },
      "source": [
        "#Square root+Cubic Transformation Model \n",
        "modelsqrtcubic.rsquared , modelcubic.rsquared_adj"
      ],
      "execution_count": 324,
      "outputs": [
        {
          "output_type": "execute_result",
          "data": {
            "text/plain": [
              "(0.7135837714239137, 0.6544084761461397)"
            ]
          },
          "metadata": {},
          "execution_count": 324
        }
      ]
    },
    {
      "cell_type": "code",
      "metadata": {
        "colab": {
          "base_uri": "https://localhost:8080/",
          "height": 506
        },
        "id": "1UzvcUprXwcn",
        "outputId": "b8096fb0-e7a5-4f27-bcd3-bf77708766bd"
      },
      "source": [
        "modelsqrtcubic.summary()"
      ],
      "execution_count": 325,
      "outputs": [
        {
          "output_type": "execute_result",
          "data": {
            "text/html": [
              "<table class=\"simpletable\">\n",
              "<caption>OLS Regression Results</caption>\n",
              "<tr>\n",
              "  <th>Dep. Variable:</th>      <td>delivery_time</td>  <th>  R-squared:         </th> <td>   0.714</td>\n",
              "</tr>\n",
              "<tr>\n",
              "  <th>Model:</th>                   <td>OLS</td>       <th>  Adj. R-squared:    </th> <td>   0.642</td>\n",
              "</tr>\n",
              "<tr>\n",
              "  <th>Method:</th>             <td>Least Squares</td>  <th>  F-statistic:       </th> <td>   9.966</td>\n",
              "</tr>\n",
              "<tr>\n",
              "  <th>Date:</th>             <td>Thu, 30 Sep 2021</td> <th>  Prob (F-statistic):</th> <td>0.000304</td>\n",
              "</tr>\n",
              "<tr>\n",
              "  <th>Time:</th>                 <td>20:23:17</td>     <th>  Log-Likelihood:    </th> <td> -50.268</td>\n",
              "</tr>\n",
              "<tr>\n",
              "  <th>No. Observations:</th>      <td>    21</td>      <th>  AIC:               </th> <td>   110.5</td>\n",
              "</tr>\n",
              "<tr>\n",
              "  <th>Df Residuals:</th>          <td>    16</td>      <th>  BIC:               </th> <td>   115.8</td>\n",
              "</tr>\n",
              "<tr>\n",
              "  <th>Df Model:</th>              <td>     4</td>      <th>                     </th>     <td> </td>   \n",
              "</tr>\n",
              "<tr>\n",
              "  <th>Covariance Type:</th>      <td>nonrobust</td>    <th>                     </th>     <td> </td>   \n",
              "</tr>\n",
              "</table>\n",
              "<table class=\"simpletable\">\n",
              "<tr>\n",
              "            <td></td>               <th>coef</th>     <th>std err</th>      <th>t</th>      <th>P>|t|</th>  <th>[0.025</th>    <th>0.975]</th>  \n",
              "</tr>\n",
              "<tr>\n",
              "  <th>Intercept</th>             <td>   -2.6359</td> <td>   14.746</td> <td>   -0.179</td> <td> 0.860</td> <td>  -33.895</td> <td>   28.623</td>\n",
              "</tr>\n",
              "<tr>\n",
              "  <th>np.sqrt(sorting_time)</th> <td>    8.1952</td> <td>   12.801</td> <td>    0.640</td> <td> 0.531</td> <td>  -18.942</td> <td>   35.333</td>\n",
              "</tr>\n",
              "<tr>\n",
              "  <th>sorting_time</th>          <td>   -0.3490</td> <td>    2.638</td> <td>   -0.132</td> <td> 0.896</td> <td>   -5.941</td> <td>    5.243</td>\n",
              "</tr>\n",
              "<tr>\n",
              "  <th>I(sorting_time ^ 2)</th>   <td>    0.6723</td> <td>    0.797</td> <td>    0.843</td> <td> 0.411</td> <td>   -1.018</td> <td>    2.362</td>\n",
              "</tr>\n",
              "<tr>\n",
              "  <th>I(sorting_time ^ 3)</th>   <td>   -0.3706</td> <td>    0.676</td> <td>   -0.548</td> <td> 0.591</td> <td>   -1.804</td> <td>    1.062</td>\n",
              "</tr>\n",
              "</table>\n",
              "<table class=\"simpletable\">\n",
              "<tr>\n",
              "  <th>Omnibus:</th>       <td> 6.396</td> <th>  Durbin-Watson:     </th> <td>   1.357</td>\n",
              "</tr>\n",
              "<tr>\n",
              "  <th>Prob(Omnibus):</th> <td> 0.041</td> <th>  Jarque-Bera (JB):  </th> <td>   4.053</td>\n",
              "</tr>\n",
              "<tr>\n",
              "  <th>Skew:</th>          <td> 0.976</td> <th>  Prob(JB):          </th> <td>   0.132</td>\n",
              "</tr>\n",
              "<tr>\n",
              "  <th>Kurtosis:</th>      <td> 3.907</td> <th>  Cond. No.          </th> <td>    338.</td>\n",
              "</tr>\n",
              "</table><br/><br/>Warnings:<br/>[1] Standard Errors assume that the covariance matrix of the errors is correctly specified."
            ],
            "text/plain": [
              "<class 'statsmodels.iolib.summary.Summary'>\n",
              "\"\"\"\n",
              "                            OLS Regression Results                            \n",
              "==============================================================================\n",
              "Dep. Variable:          delivery_time   R-squared:                       0.714\n",
              "Model:                            OLS   Adj. R-squared:                  0.642\n",
              "Method:                 Least Squares   F-statistic:                     9.966\n",
              "Date:                Thu, 30 Sep 2021   Prob (F-statistic):           0.000304\n",
              "Time:                        20:23:17   Log-Likelihood:                -50.268\n",
              "No. Observations:                  21   AIC:                             110.5\n",
              "Df Residuals:                      16   BIC:                             115.8\n",
              "Df Model:                           4                                         \n",
              "Covariance Type:            nonrobust                                         \n",
              "=========================================================================================\n",
              "                            coef    std err          t      P>|t|      [0.025      0.975]\n",
              "-----------------------------------------------------------------------------------------\n",
              "Intercept                -2.6359     14.746     -0.179      0.860     -33.895      28.623\n",
              "np.sqrt(sorting_time)     8.1952     12.801      0.640      0.531     -18.942      35.333\n",
              "sorting_time             -0.3490      2.638     -0.132      0.896      -5.941       5.243\n",
              "I(sorting_time ^ 2)       0.6723      0.797      0.843      0.411      -1.018       2.362\n",
              "I(sorting_time ^ 3)      -0.3706      0.676     -0.548      0.591      -1.804       1.062\n",
              "==============================================================================\n",
              "Omnibus:                        6.396   Durbin-Watson:                   1.357\n",
              "Prob(Omnibus):                  0.041   Jarque-Bera (JB):                4.053\n",
              "Skew:                           0.976   Prob(JB):                        0.132\n",
              "Kurtosis:                       3.907   Cond. No.                         338.\n",
              "==============================================================================\n",
              "\n",
              "Warnings:\n",
              "[1] Standard Errors assume that the covariance matrix of the errors is correctly specified.\n",
              "\"\"\""
            ]
          },
          "metadata": {},
          "execution_count": 325
        }
      ]
    },
    {
      "cell_type": "markdown",
      "metadata": {
        "id": "ET8kg1QSVSpU"
      },
      "source": [
        "Hence, best model is square root+Cubic Transformation Model"
      ]
    },
    {
      "cell_type": "markdown",
      "metadata": {
        "id": "Oa9l5tKuVbAM"
      },
      "source": [
        "# **Model Predictions**"
      ]
    },
    {
      "cell_type": "code",
      "metadata": {
        "colab": {
          "base_uri": "https://localhost:8080/"
        },
        "id": "c1TnP0lwVG0d",
        "outputId": "0f005d03-0ef3-4b03-9dbd-7b0af585fdee"
      },
      "source": [
        "# Manual prediction for say sorting time 5\n",
        "delivery_time = (6.582734) + (1.649020)*(5)\n",
        "delivery_time"
      ],
      "execution_count": 326,
      "outputs": [
        {
          "output_type": "execute_result",
          "data": {
            "text/plain": [
              "14.827834"
            ]
          },
          "metadata": {},
          "execution_count": 326
        }
      ]
    },
    {
      "cell_type": "code",
      "metadata": {
        "colab": {
          "base_uri": "https://localhost:8080/"
        },
        "id": "nU4I0WQdVgYM",
        "outputId": "234b08ec-2213-4c27-9b05-d009c901ba5c"
      },
      "source": [
        "# Automatic Prediction for say sorting time 5, 8\n",
        "new_data=pd.Series([5,8])\n",
        "new_data"
      ],
      "execution_count": 327,
      "outputs": [
        {
          "output_type": "execute_result",
          "data": {
            "text/plain": [
              "0    5\n",
              "1    8\n",
              "dtype: int64"
            ]
          },
          "metadata": {},
          "execution_count": 327
        }
      ]
    },
    {
      "cell_type": "code",
      "metadata": {
        "colab": {
          "base_uri": "https://localhost:8080/",
          "height": 112
        },
        "id": "4AULLjvEVie4",
        "outputId": "6a601814-3cf6-4f38-b269-88e5bbaec023"
      },
      "source": [
        "data_pred=pd.DataFrame(new_data,columns=['sorting_time'])\n",
        "data_pred"
      ],
      "execution_count": 328,
      "outputs": [
        {
          "output_type": "execute_result",
          "data": {
            "text/html": [
              "<div>\n",
              "<style scoped>\n",
              "    .dataframe tbody tr th:only-of-type {\n",
              "        vertical-align: middle;\n",
              "    }\n",
              "\n",
              "    .dataframe tbody tr th {\n",
              "        vertical-align: top;\n",
              "    }\n",
              "\n",
              "    .dataframe thead th {\n",
              "        text-align: right;\n",
              "    }\n",
              "</style>\n",
              "<table border=\"1\" class=\"dataframe\">\n",
              "  <thead>\n",
              "    <tr style=\"text-align: right;\">\n",
              "      <th></th>\n",
              "      <th>sorting_time</th>\n",
              "    </tr>\n",
              "  </thead>\n",
              "  <tbody>\n",
              "    <tr>\n",
              "      <th>0</th>\n",
              "      <td>5</td>\n",
              "    </tr>\n",
              "    <tr>\n",
              "      <th>1</th>\n",
              "      <td>8</td>\n",
              "    </tr>\n",
              "  </tbody>\n",
              "</table>\n",
              "</div>"
            ],
            "text/plain": [
              "   sorting_time\n",
              "0             5\n",
              "1             8"
            ]
          },
          "metadata": {},
          "execution_count": 328
        }
      ]
    },
    {
      "cell_type": "code",
      "metadata": {
        "colab": {
          "base_uri": "https://localhost:8080/"
        },
        "id": "0DJqoXH2VmtA",
        "outputId": "65836b17-f875-4706-fb58-4d4265fa22da"
      },
      "source": [
        "model.predict(data_pred)"
      ],
      "execution_count": 329,
      "outputs": [
        {
          "output_type": "execute_result",
          "data": {
            "text/plain": [
              "0    14.827833\n",
              "1    19.774893\n",
              "dtype: float64"
            ]
          },
          "metadata": {},
          "execution_count": 329
        }
      ]
    },
    {
      "cell_type": "code",
      "metadata": {
        "id": "CYdaLPoOVpha"
      },
      "source": [
        ""
      ],
      "execution_count": 329,
      "outputs": []
    }
  ]
}