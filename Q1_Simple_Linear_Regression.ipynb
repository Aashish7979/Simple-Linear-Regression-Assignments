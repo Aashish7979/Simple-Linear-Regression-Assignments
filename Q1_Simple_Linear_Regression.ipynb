{
  "nbformat": 4,
  "nbformat_minor": 0,
  "metadata": {
    "colab": {
      "name": "Q1_Simple-Linear-Regression.ipynb",
      "provenance": [],
      "collapsed_sections": []
    },
    "kernelspec": {
      "name": "python3",
      "display_name": "Python 3"
    },
    "language_info": {
      "name": "python"
    }
  },
  "cells": [
    {
      "cell_type": "markdown",
      "metadata": {
        "id": "_F3oHZj93bMi"
      },
      "source": [
        "1) Delivery_time -> Predict delivery time using sorting time\n"
      ]
    },
    {
      "cell_type": "markdown",
      "metadata": {
        "id": "8HJfCV2A3iVw"
      },
      "source": [
        "# **Import Libraries**"
      ]
    },
    {
      "cell_type": "code",
      "metadata": {
        "id": "iCLRjY_Y3dq8"
      },
      "source": [
        "import pandas as pd\n",
        "import numpy as np\n",
        "import seaborn as sns\n",
        "import statsmodels.formula.api as smf"
      ],
      "execution_count": 179,
      "outputs": []
    },
    {
      "cell_type": "code",
      "metadata": {
        "colab": {
          "base_uri": "https://localhost:8080/",
          "height": 708
        },
        "id": "OwGudrKt3oPK",
        "outputId": "b1a47973-9a9d-4c33-e559-69f77be61630"
      },
      "source": [
        "# import dataset\n",
        "dataset=pd.read_csv('delivery_time.csv')\n",
        "dataset"
      ],
      "execution_count": 180,
      "outputs": [
        {
          "output_type": "execute_result",
          "data": {
            "text/html": [
              "<div>\n",
              "<style scoped>\n",
              "    .dataframe tbody tr th:only-of-type {\n",
              "        vertical-align: middle;\n",
              "    }\n",
              "\n",
              "    .dataframe tbody tr th {\n",
              "        vertical-align: top;\n",
              "    }\n",
              "\n",
              "    .dataframe thead th {\n",
              "        text-align: right;\n",
              "    }\n",
              "</style>\n",
              "<table border=\"1\" class=\"dataframe\">\n",
              "  <thead>\n",
              "    <tr style=\"text-align: right;\">\n",
              "      <th></th>\n",
              "      <th>Delivery Time</th>\n",
              "      <th>Sorting Time</th>\n",
              "    </tr>\n",
              "  </thead>\n",
              "  <tbody>\n",
              "    <tr>\n",
              "      <th>0</th>\n",
              "      <td>21.00</td>\n",
              "      <td>10</td>\n",
              "    </tr>\n",
              "    <tr>\n",
              "      <th>1</th>\n",
              "      <td>13.50</td>\n",
              "      <td>4</td>\n",
              "    </tr>\n",
              "    <tr>\n",
              "      <th>2</th>\n",
              "      <td>19.75</td>\n",
              "      <td>6</td>\n",
              "    </tr>\n",
              "    <tr>\n",
              "      <th>3</th>\n",
              "      <td>24.00</td>\n",
              "      <td>9</td>\n",
              "    </tr>\n",
              "    <tr>\n",
              "      <th>4</th>\n",
              "      <td>29.00</td>\n",
              "      <td>10</td>\n",
              "    </tr>\n",
              "    <tr>\n",
              "      <th>5</th>\n",
              "      <td>15.35</td>\n",
              "      <td>6</td>\n",
              "    </tr>\n",
              "    <tr>\n",
              "      <th>6</th>\n",
              "      <td>19.00</td>\n",
              "      <td>7</td>\n",
              "    </tr>\n",
              "    <tr>\n",
              "      <th>7</th>\n",
              "      <td>9.50</td>\n",
              "      <td>3</td>\n",
              "    </tr>\n",
              "    <tr>\n",
              "      <th>8</th>\n",
              "      <td>17.90</td>\n",
              "      <td>10</td>\n",
              "    </tr>\n",
              "    <tr>\n",
              "      <th>9</th>\n",
              "      <td>18.75</td>\n",
              "      <td>9</td>\n",
              "    </tr>\n",
              "    <tr>\n",
              "      <th>10</th>\n",
              "      <td>19.83</td>\n",
              "      <td>8</td>\n",
              "    </tr>\n",
              "    <tr>\n",
              "      <th>11</th>\n",
              "      <td>10.75</td>\n",
              "      <td>4</td>\n",
              "    </tr>\n",
              "    <tr>\n",
              "      <th>12</th>\n",
              "      <td>16.68</td>\n",
              "      <td>7</td>\n",
              "    </tr>\n",
              "    <tr>\n",
              "      <th>13</th>\n",
              "      <td>11.50</td>\n",
              "      <td>3</td>\n",
              "    </tr>\n",
              "    <tr>\n",
              "      <th>14</th>\n",
              "      <td>12.03</td>\n",
              "      <td>3</td>\n",
              "    </tr>\n",
              "    <tr>\n",
              "      <th>15</th>\n",
              "      <td>14.88</td>\n",
              "      <td>4</td>\n",
              "    </tr>\n",
              "    <tr>\n",
              "      <th>16</th>\n",
              "      <td>13.75</td>\n",
              "      <td>6</td>\n",
              "    </tr>\n",
              "    <tr>\n",
              "      <th>17</th>\n",
              "      <td>18.11</td>\n",
              "      <td>7</td>\n",
              "    </tr>\n",
              "    <tr>\n",
              "      <th>18</th>\n",
              "      <td>8.00</td>\n",
              "      <td>2</td>\n",
              "    </tr>\n",
              "    <tr>\n",
              "      <th>19</th>\n",
              "      <td>17.83</td>\n",
              "      <td>7</td>\n",
              "    </tr>\n",
              "    <tr>\n",
              "      <th>20</th>\n",
              "      <td>21.50</td>\n",
              "      <td>5</td>\n",
              "    </tr>\n",
              "  </tbody>\n",
              "</table>\n",
              "</div>"
            ],
            "text/plain": [
              "    Delivery Time  Sorting Time\n",
              "0           21.00            10\n",
              "1           13.50             4\n",
              "2           19.75             6\n",
              "3           24.00             9\n",
              "4           29.00            10\n",
              "5           15.35             6\n",
              "6           19.00             7\n",
              "7            9.50             3\n",
              "8           17.90            10\n",
              "9           18.75             9\n",
              "10          19.83             8\n",
              "11          10.75             4\n",
              "12          16.68             7\n",
              "13          11.50             3\n",
              "14          12.03             3\n",
              "15          14.88             4\n",
              "16          13.75             6\n",
              "17          18.11             7\n",
              "18           8.00             2\n",
              "19          17.83             7\n",
              "20          21.50             5"
            ]
          },
          "metadata": {},
          "execution_count": 180
        }
      ]
    },
    {
      "cell_type": "markdown",
      "metadata": {
        "id": "JcPddXkH3uXb"
      },
      "source": [
        "# **EDA and Data Visualization**"
      ]
    },
    {
      "cell_type": "code",
      "metadata": {
        "colab": {
          "base_uri": "https://localhost:8080/"
        },
        "id": "wBtc-GEJ3reu",
        "outputId": "aee01605-a922-4678-dec5-b473112abf38"
      },
      "source": [
        "dataset.info()"
      ],
      "execution_count": 181,
      "outputs": [
        {
          "output_type": "stream",
          "name": "stdout",
          "text": [
            "<class 'pandas.core.frame.DataFrame'>\n",
            "RangeIndex: 21 entries, 0 to 20\n",
            "Data columns (total 2 columns):\n",
            " #   Column         Non-Null Count  Dtype  \n",
            "---  ------         --------------  -----  \n",
            " 0   Delivery Time  21 non-null     float64\n",
            " 1   Sorting Time   21 non-null     int64  \n",
            "dtypes: float64(1), int64(1)\n",
            "memory usage: 464.0 bytes\n"
          ]
        }
      ]
    },
    {
      "cell_type": "code",
      "metadata": {
        "colab": {
          "base_uri": "https://localhost:8080/",
          "height": 351
        },
        "id": "T7Z8LUcD3xYe",
        "outputId": "8807265f-c66d-4c82-e543-ef0efadb98e4"
      },
      "source": [
        "sns.distplot(dataset['Delivery Time'])"
      ],
      "execution_count": 182,
      "outputs": [
        {
          "output_type": "stream",
          "name": "stderr",
          "text": [
            "/usr/local/lib/python3.7/dist-packages/seaborn/distributions.py:2619: FutureWarning: `distplot` is a deprecated function and will be removed in a future version. Please adapt your code to use either `displot` (a figure-level function with similar flexibility) or `histplot` (an axes-level function for histograms).\n",
            "  warnings.warn(msg, FutureWarning)\n"
          ]
        },
        {
          "output_type": "execute_result",
          "data": {
            "text/plain": [
              "<matplotlib.axes._subplots.AxesSubplot at 0x7f62d305a350>"
            ]
          },
          "metadata": {},
          "execution_count": 182
        },
        {
          "output_type": "display_data",
          "data": {
            "image/png": "[encoded data removed]",
            "text/plain": [
              "<Figure size 432x288 with 1 Axes>"
            ]
          },
          "metadata": {
            "needs_background": "light"
          }
        }
      ]
    },
    {
      "cell_type": "code",
      "metadata": {
        "colab": {
          "base_uri": "https://localhost:8080/",
          "height": 351
        },
        "id": "o7Vb1Elp3zRE",
        "outputId": "dbba4996-28b7-418f-ade0-e11772ff5dfc"
      },
      "source": [
        "sns.distplot(dataset['Sorting Time'])"
      ],
      "execution_count": 183,
      "outputs": [
        {
          "output_type": "stream",
          "name": "stderr",
          "text": [
            "/usr/local/lib/python3.7/dist-packages/seaborn/distributions.py:2619: FutureWarning: `distplot` is a deprecated function and will be removed in a future version. Please adapt your code to use either `displot` (a figure-level function with similar flexibility) or `histplot` (an axes-level function for histograms).\n",
            "  warnings.warn(msg, FutureWarning)\n"
          ]
        },
        {
          "output_type": "execute_result",
          "data": {
            "text/plain": [
              "<matplotlib.axes._subplots.AxesSubplot at 0x7f62d2fd7090>"
            ]
          },
          "metadata": {},
          "execution_count": 183
        },
        {
          "output_type": "display_data",
          "data": {
            "image/png": "[encoded data removed]",
            "text/plain": [
              "<Figure size 432x288 with 1 Axes>"
            ]
          },
          "metadata": {
            "needs_background": "light"
          }
        }
      ]
    },
    {
      "cell_type": "markdown",
      "metadata": {
        "id": "aM3Excop33Mb"
      },
      "source": [
        "# **Feature Engineering**"
      ]
    },
    {
      "cell_type": "code",
      "metadata": {
        "colab": {
          "base_uri": "https://localhost:8080/",
          "height": 708
        },
        "id": "iNjAZIjr30_O",
        "outputId": "b028a9a9-6c5e-4f5c-de47-a0c4a8e239e8"
      },
      "source": [
        "# Renaming Columns\n",
        "dataset=dataset.rename({'Delivery Time':'delivery_time', 'Sorting Time':'sorting_time'},axis=1)\n",
        "dataset"
      ],
      "execution_count": 184,
      "outputs": [
        {
          "output_type": "execute_result",
          "data": {
            "text/html": [
              "<div>\n",
              "<style scoped>\n",
              "    .dataframe tbody tr th:only-of-type {\n",
              "        vertical-align: middle;\n",
              "    }\n",
              "\n",
              "    .dataframe tbody tr th {\n",
              "        vertical-align: top;\n",
              "    }\n",
              "\n",
              "    .dataframe thead th {\n",
              "        text-align: right;\n",
              "    }\n",
              "</style>\n",
              "<table border=\"1\" class=\"dataframe\">\n",
              "  <thead>\n",
              "    <tr style=\"text-align: right;\">\n",
              "      <th></th>\n",
              "      <th>delivery_time</th>\n",
              "      <th>sorting_time</th>\n",
              "    </tr>\n",
              "  </thead>\n",
              "  <tbody>\n",
              "    <tr>\n",
              "      <th>0</th>\n",
              "      <td>21.00</td>\n",
              "      <td>10</td>\n",
              "    </tr>\n",
              "    <tr>\n",
              "      <th>1</th>\n",
              "      <td>13.50</td>\n",
              "      <td>4</td>\n",
              "    </tr>\n",
              "    <tr>\n",
              "      <th>2</th>\n",
              "      <td>19.75</td>\n",
              "      <td>6</td>\n",
              "    </tr>\n",
              "    <tr>\n",
              "      <th>3</th>\n",
              "      <td>24.00</td>\n",
              "      <td>9</td>\n",
              "    </tr>\n",
              "    <tr>\n",
              "      <th>4</th>\n",
              "      <td>29.00</td>\n",
              "      <td>10</td>\n",
              "    </tr>\n",
              "    <tr>\n",
              "      <th>5</th>\n",
              "      <td>15.35</td>\n",
              "      <td>6</td>\n",
              "    </tr>\n",
              "    <tr>\n",
              "      <th>6</th>\n",
              "      <td>19.00</td>\n",
              "      <td>7</td>\n",
              "    </tr>\n",
              "    <tr>\n",
              "      <th>7</th>\n",
              "      <td>9.50</td>\n",
              "      <td>3</td>\n",
              "    </tr>\n",
              "    <tr>\n",
              "      <th>8</th>\n",
              "      <td>17.90</td>\n",
              "      <td>10</td>\n",
              "    </tr>\n",
              "    <tr>\n",
              "      <th>9</th>\n",
              "      <td>18.75</td>\n",
              "      <td>9</td>\n",
              "    </tr>\n",
              "    <tr>\n",
              "      <th>10</th>\n",
              "      <td>19.83</td>\n",
              "      <td>8</td>\n",
              "    </tr>\n",
              "    <tr>\n",
              "      <th>11</th>\n",
              "      <td>10.75</td>\n",
              "      <td>4</td>\n",
              "    </tr>\n",
              "    <tr>\n",
              "      <th>12</th>\n",
              "      <td>16.68</td>\n",
              "      <td>7</td>\n",
              "    </tr>\n",
              "    <tr>\n",
              "      <th>13</th>\n",
              "      <td>11.50</td>\n",
              "      <td>3</td>\n",
              "    </tr>\n",
              "    <tr>\n",
              "      <th>14</th>\n",
              "      <td>12.03</td>\n",
              "      <td>3</td>\n",
              "    </tr>\n",
              "    <tr>\n",
              "      <th>15</th>\n",
              "      <td>14.88</td>\n",
              "      <td>4</td>\n",
              "    </tr>\n",
              "    <tr>\n",
              "      <th>16</th>\n",
              "      <td>13.75</td>\n",
              "      <td>6</td>\n",
              "    </tr>\n",
              "    <tr>\n",
              "      <th>17</th>\n",
              "      <td>18.11</td>\n",
              "      <td>7</td>\n",
              "    </tr>\n",
              "    <tr>\n",
              "      <th>18</th>\n",
              "      <td>8.00</td>\n",
              "      <td>2</td>\n",
              "    </tr>\n",
              "    <tr>\n",
              "      <th>19</th>\n",
              "      <td>17.83</td>\n",
              "      <td>7</td>\n",
              "    </tr>\n",
              "    <tr>\n",
              "      <th>20</th>\n",
              "      <td>21.50</td>\n",
              "      <td>5</td>\n",
              "    </tr>\n",
              "  </tbody>\n",
              "</table>\n",
              "</div>"
            ],
            "text/plain": [
              "    delivery_time  sorting_time\n",
              "0           21.00            10\n",
              "1           13.50             4\n",
              "2           19.75             6\n",
              "3           24.00             9\n",
              "4           29.00            10\n",
              "5           15.35             6\n",
              "6           19.00             7\n",
              "7            9.50             3\n",
              "8           17.90            10\n",
              "9           18.75             9\n",
              "10          19.83             8\n",
              "11          10.75             4\n",
              "12          16.68             7\n",
              "13          11.50             3\n",
              "14          12.03             3\n",
              "15          14.88             4\n",
              "16          13.75             6\n",
              "17          18.11             7\n",
              "18           8.00             2\n",
              "19          17.83             7\n",
              "20          21.50             5"
            ]
          },
          "metadata": {},
          "execution_count": 184
        }
      ]
    },
    {
      "cell_type": "markdown",
      "metadata": {
        "id": "Zge0oQ5K4A71"
      },
      "source": [
        "# **Correlation Analysis**"
      ]
    },
    {
      "cell_type": "code",
      "metadata": {
        "colab": {
          "base_uri": "https://localhost:8080/",
          "height": 112
        },
        "id": "fC0Q3Uof4Bm1",
        "outputId": "6369006d-721f-4b8b-e29c-c1aa2aa71fef"
      },
      "source": [
        "dataset.corr()"
      ],
      "execution_count": 185,
      "outputs": [
        {
          "output_type": "execute_result",
          "data": {
            "text/html": [
              "<div>\n",
              "<style scoped>\n",
              "    .dataframe tbody tr th:only-of-type {\n",
              "        vertical-align: middle;\n",
              "    }\n",
              "\n",
              "    .dataframe tbody tr th {\n",
              "        vertical-align: top;\n",
              "    }\n",
              "\n",
              "    .dataframe thead th {\n",
              "        text-align: right;\n",
              "    }\n",
              "</style>\n",
              "<table border=\"1\" class=\"dataframe\">\n",
              "  <thead>\n",
              "    <tr style=\"text-align: right;\">\n",
              "      <th></th>\n",
              "      <th>delivery_time</th>\n",
              "      <th>sorting_time</th>\n",
              "    </tr>\n",
              "  </thead>\n",
              "  <tbody>\n",
              "    <tr>\n",
              "      <th>delivery_time</th>\n",
              "      <td>1.000000</td>\n",
              "      <td>0.825997</td>\n",
              "    </tr>\n",
              "    <tr>\n",
              "      <th>sorting_time</th>\n",
              "      <td>0.825997</td>\n",
              "      <td>1.000000</td>\n",
              "    </tr>\n",
              "  </tbody>\n",
              "</table>\n",
              "</div>"
            ],
            "text/plain": [
              "               delivery_time  sorting_time\n",
              "delivery_time       1.000000      0.825997\n",
              "sorting_time        0.825997      1.000000"
            ]
          },
          "metadata": {},
          "execution_count": 185
        }
      ]
    },
    {
      "cell_type": "code",
      "metadata": {
        "colab": {
          "base_uri": "https://localhost:8080/",
          "height": 302
        },
        "id": "7UpY5MD44Dvl",
        "outputId": "31a7475a-9d80-4439-c6b4-37e3c446a0de"
      },
      "source": [
        "sns.regplot(x=dataset['sorting_time'],y=dataset['delivery_time'])"
      ],
      "execution_count": 186,
      "outputs": [
        {
          "output_type": "execute_result",
          "data": {
            "text/plain": [
              "<matplotlib.axes._subplots.AxesSubplot at 0x7f62d2f50d50>"
            ]
          },
          "metadata": {},
          "execution_count": 186
        },
        {
          "output_type": "display_data",
          "data": {
            "image/png": "[encoded data removed]",
            "text/plain": [
              "<Figure size 432x288 with 1 Axes>"
            ]
          },
          "metadata": {
            "needs_background": "light"
          }
        }
      ]
    },
    {
      "cell_type": "markdown",
      "metadata": {
        "id": "CMUstqb04Iyt"
      },
      "source": [
        "# **Model Building (Simple linear Regression Model)**"
      ]
    },
    {
      "cell_type": "code",
      "metadata": {
        "id": "zUKVqDXX4GQn"
      },
      "source": [
        "model=smf.ols(\"delivery_time~sorting_time\",data=dataset).fit()"
      ],
      "execution_count": 187,
      "outputs": []
    },
    {
      "cell_type": "markdown",
      "metadata": {
        "id": "gJq36Pmj4RDI"
      },
      "source": [
        "**Model Testing**"
      ]
    },
    {
      "cell_type": "code",
      "metadata": {
        "colab": {
          "base_uri": "https://localhost:8080/"
        },
        "id": "z6jmH6Rz4M6G",
        "outputId": "da7de3ae-6b54-4a9e-fc10-831c6c344df1"
      },
      "source": [
        "# Finding Coefficient parameters\n",
        "model.params"
      ],
      "execution_count": 188,
      "outputs": [
        {
          "output_type": "execute_result",
          "data": {
            "text/plain": [
              "Intercept       6.582734\n",
              "sorting_time    1.649020\n",
              "dtype: float64"
            ]
          },
          "metadata": {},
          "execution_count": 188
        }
      ]
    },
    {
      "cell_type": "code",
      "metadata": {
        "colab": {
          "base_uri": "https://localhost:8080/"
        },
        "id": "v787a5fG4TvU",
        "outputId": "3ebab78d-ce58-4f67-b2cd-747e1df35f27"
      },
      "source": [
        "# Finding tvalues and pvalues\n",
        "model.tvalues , model.pvalues"
      ],
      "execution_count": 189,
      "outputs": [
        {
          "output_type": "execute_result",
          "data": {
            "text/plain": [
              "(Intercept       3.823349\n",
              " sorting_time    6.387447\n",
              " dtype: float64, Intercept       0.001147\n",
              " sorting_time    0.000004\n",
              " dtype: float64)"
            ]
          },
          "metadata": {},
          "execution_count": 189
        }
      ]
    },
    {
      "cell_type": "code",
      "metadata": {
        "colab": {
          "base_uri": "https://localhost:8080/"
        },
        "id": "g15-gYn14Vwf",
        "outputId": "7a955cee-f807-43d9-eab8-6fe56cb2455e"
      },
      "source": [
        "# Finding Rsquared Values\n",
        "model.rsquared , model.rsquared_adj"
      ],
      "execution_count": 190,
      "outputs": [
        {
          "output_type": "execute_result",
          "data": {
            "text/plain": [
              "(0.6822714748417231, 0.6655489208860244)"
            ]
          },
          "metadata": {},
          "execution_count": 190
        }
      ]
    },
    {
      "cell_type": "markdown",
      "metadata": {
        "id": "QVEMmKG-4dSn"
      },
      "source": [
        "# **Model Building (Logrithm Transformation Model)**"
      ]
    },
    {
      "cell_type": "code",
      "metadata": {
        "id": "xf72VYfw41rm"
      },
      "source": [
        "import numpy as np\n",
        "from sklearn.linear_model import LinearRegression"
      ],
      "execution_count": 191,
      "outputs": []
    },
    {
      "cell_type": "code",
      "metadata": {
        "id": "UxfTJPd44Xxh"
      },
      "source": [
        "modellog=smf.ols(\"delivery_time~np.log(sorting_time)\",data=dataset).fit()"
      ],
      "execution_count": 192,
      "outputs": []
    },
    {
      "cell_type": "markdown",
      "metadata": {
        "id": "GIBZWocG6b1d"
      },
      "source": [
        "**Model Testing**"
      ]
    },
    {
      "cell_type": "code",
      "metadata": {
        "colab": {
          "base_uri": "https://localhost:8080/"
        },
        "id": "A9KQGauJ6Xyh",
        "outputId": "55c04533-0ca6-47fc-893f-a33541e7efee"
      },
      "source": [
        "# Finding Coefficient parameters\n",
        "modellog.params"
      ],
      "execution_count": 193,
      "outputs": [
        {
          "output_type": "execute_result",
          "data": {
            "text/plain": [
              "Intercept               1.159684\n",
              "np.log(sorting_time)    9.043413\n",
              "dtype: float64"
            ]
          },
          "metadata": {},
          "execution_count": 193
        }
      ]
    },
    {
      "cell_type": "code",
      "metadata": {
        "colab": {
          "base_uri": "https://localhost:8080/"
        },
        "id": "sD6dviOb6j82",
        "outputId": "32af230d-522c-4069-b9a0-55b9d18713c8"
      },
      "source": [
        "# Finding tvalues and pvalues\n",
        "modellog.tvalues , modellog.pvalues"
      ],
      "execution_count": 194,
      "outputs": [
        {
          "output_type": "execute_result",
          "data": {
            "text/plain": [
              "(Intercept               0.472460\n",
              " np.log(sorting_time)    6.586789\n",
              " dtype: float64, Intercept               0.641980\n",
              " np.log(sorting_time)    0.000003\n",
              " dtype: float64)"
            ]
          },
          "metadata": {},
          "execution_count": 194
        }
      ]
    },
    {
      "cell_type": "code",
      "metadata": {
        "colab": {
          "base_uri": "https://localhost:8080/"
        },
        "id": "rvXtnRsT6nx-",
        "outputId": "3c763bc7-b9ef-44af-ea80-7b5460cc3f90"
      },
      "source": [
        "# Finding Rsquared Values\n",
        "modellog.rsquared , modellog.rsquared_adj"
      ],
      "execution_count": 195,
      "outputs": [
        {
          "output_type": "execute_result",
          "data": {
            "text/plain": [
              "(0.6954434611324224, 0.6794141696130762)"
            ]
          },
          "metadata": {},
          "execution_count": 195
        }
      ]
    },
    {
      "cell_type": "markdown",
      "metadata": {
        "id": "H_wuYzjW6vcq"
      },
      "source": [
        "# **Model Building (Square root Transformation Model)**"
      ]
    },
    {
      "cell_type": "code",
      "metadata": {
        "id": "GwVwMNm36qqI"
      },
      "source": [
        "modelsqrt=smf.ols(\"delivery_time~np.sqrt(sorting_time)\",data=dataset).fit()"
      ],
      "execution_count": 196,
      "outputs": []
    },
    {
      "cell_type": "markdown",
      "metadata": {
        "id": "eNGaPdHD8bjM"
      },
      "source": [
        "**Model Testing**"
      ]
    },
    {
      "cell_type": "code",
      "metadata": {
        "colab": {
          "base_uri": "https://localhost:8080/"
        },
        "id": "Jcesyy_z8m4r",
        "outputId": "860e324f-c0c3-418f-e813-7c403c48ff87"
      },
      "source": [
        "# Finding Coefficient parameters\n",
        "modelsqrt.params"
      ],
      "execution_count": 197,
      "outputs": [
        {
          "output_type": "execute_result",
          "data": {
            "text/plain": [
              "Intercept               -2.518837\n",
              "np.sqrt(sorting_time)    7.936591\n",
              "dtype: float64"
            ]
          },
          "metadata": {},
          "execution_count": 197
        }
      ]
    },
    {
      "cell_type": "code",
      "metadata": {
        "colab": {
          "base_uri": "https://localhost:8080/"
        },
        "id": "c2iiVXh48rwn",
        "outputId": "451ed599-f343-4a0a-999d-86771c533c23"
      },
      "source": [
        "# Finding tvalues and pvalues\n",
        "modelsqrt.tvalues , modelsqrt.pvalues"
      ],
      "execution_count": 198,
      "outputs": [
        {
          "output_type": "execute_result",
          "data": {
            "text/plain": [
              "(Intercept               -0.840911\n",
              " np.sqrt(sorting_time)    6.592434\n",
              " dtype: float64, Intercept                0.410857\n",
              " np.sqrt(sorting_time)    0.000003\n",
              " dtype: float64)"
            ]
          },
          "metadata": {},
          "execution_count": 198
        }
      ]
    },
    {
      "cell_type": "code",
      "metadata": {
        "colab": {
          "base_uri": "https://localhost:8080/"
        },
        "id": "1eyQBygn9DVh",
        "outputId": "a9465d1f-8ca8-497a-f156-97857514f548"
      },
      "source": [
        "# Finding Rsquared Values\n",
        "modelsqrt.rsquared , modelsqrt.rsquared_adj"
      ],
      "execution_count": 199,
      "outputs": [
        {
          "output_type": "execute_result",
          "data": {
            "text/plain": [
              "(0.695806227630867, 0.6797960290851232)"
            ]
          },
          "metadata": {},
          "execution_count": 199
        }
      ]
    },
    {
      "cell_type": "markdown",
      "metadata": {
        "id": "CYoFDw3n9VdG"
      },
      "source": [
        "# **Model Building (Exponential Transformation Model)**"
      ]
    },
    {
      "cell_type": "code",
      "metadata": {
        "id": "T5DHUolo9eLn"
      },
      "source": [
        "modelexpo=smf.ols(\"delivery_time~np.exp(sorting_time)\",data=dataset).fit()"
      ],
      "execution_count": 200,
      "outputs": []
    },
    {
      "cell_type": "markdown",
      "metadata": {
        "id": "ezht8u289pV3"
      },
      "source": [
        "**Model Testing**"
      ]
    },
    {
      "cell_type": "code",
      "metadata": {
        "colab": {
          "base_uri": "https://localhost:8080/"
        },
        "id": "p61pvBX09rE4",
        "outputId": "afccff2f-9b24-4b88-c602-1953e163ef54"
      },
      "source": [
        "# Finding Coefficient parameters\n",
        "modelexpo.params"
      ],
      "execution_count": 201,
      "outputs": [
        {
          "output_type": "execute_result",
          "data": {
            "text/plain": [
              "Intercept               15.083578\n",
              "np.exp(sorting_time)     0.000393\n",
              "dtype: float64"
            ]
          },
          "metadata": {},
          "execution_count": 201
        }
      ]
    },
    {
      "cell_type": "code",
      "metadata": {
        "colab": {
          "base_uri": "https://localhost:8080/"
        },
        "id": "SVtzOFUW9u0C",
        "outputId": "17842911-ed48-41dd-a570-a12535e9f5a3"
      },
      "source": [
        "# Finding tvalues and pvalues\n",
        "modelexpo.tvalues , modelexpo.pvalues"
      ],
      "execution_count": 202,
      "outputs": [
        {
          "output_type": "execute_result",
          "data": {
            "text/plain": [
              "(Intercept               14.406456\n",
              " np.exp(sorting_time)     3.277108\n",
              " dtype: float64, Intercept               1.117304e-11\n",
              " np.exp(sorting_time)    3.964511e-03\n",
              " dtype: float64)"
            ]
          },
          "metadata": {},
          "execution_count": 202
        }
      ]
    },
    {
      "cell_type": "code",
      "metadata": {
        "colab": {
          "base_uri": "https://localhost:8080/"
        },
        "id": "dAn3x9ot9z_J",
        "outputId": "feb4aea8-0020-4758-d9c6-eb57093b93bc"
      },
      "source": [
        "# Finding Rsquared Values\n",
        "modelexpo.rsquared , modelexpo.rsquared_adj"
      ],
      "execution_count": 203,
      "outputs": [
        {
          "output_type": "execute_result",
          "data": {
            "text/plain": [
              "(0.3611177022709089, 0.3274923181799041)"
            ]
          },
          "metadata": {},
          "execution_count": 203
        }
      ]
    },
    {
      "cell_type": "markdown",
      "metadata": {
        "id": "DBeRrh1B-FU-"
      },
      "source": [
        "# **Model Building (Sin Transformation Model)**"
      ]
    },
    {
      "cell_type": "code",
      "metadata": {
        "id": "mLIL7thZ-Min"
      },
      "source": [
        "modelsin=smf.ols(\"delivery_time~np.sin(sorting_time)\",data=dataset).fit()"
      ],
      "execution_count": 204,
      "outputs": []
    },
    {
      "cell_type": "markdown",
      "metadata": {
        "id": "UAMOr_eGEppH"
      },
      "source": [
        "**Model Testing**"
      ]
    },
    {
      "cell_type": "code",
      "metadata": {
        "colab": {
          "base_uri": "https://localhost:8080/"
        },
        "id": "0J6fIgU5-SSm",
        "outputId": "4300d11f-4d3a-4949-d044-168d0eef1259"
      },
      "source": [
        "# Finding Coefficient parameters\n",
        "modelsin.params"
      ],
      "execution_count": 205,
      "outputs": [
        {
          "output_type": "execute_result",
          "data": {
            "text/plain": [
              "Intercept               16.793650\n",
              "np.sin(sorting_time)    -0.759948\n",
              "dtype: float64"
            ]
          },
          "metadata": {},
          "execution_count": 205
        }
      ]
    },
    {
      "cell_type": "code",
      "metadata": {
        "colab": {
          "base_uri": "https://localhost:8080/"
        },
        "id": "CZJ4fnVrEsUD",
        "outputId": "fa4264ca-86fe-4274-ef76-b294cce67fcd"
      },
      "source": [
        "# Finding tvalues and pvalues\n",
        "modelsin.tvalues , modelsin.pvalues"
      ],
      "execution_count": 206,
      "outputs": [
        {
          "output_type": "execute_result",
          "data": {
            "text/plain": [
              "(Intercept               14.844384\n",
              " np.sin(sorting_time)    -0.406534\n",
              " dtype: float64, Intercept               6.611298e-12\n",
              " np.sin(sorting_time)    6.888931e-01\n",
              " dtype: float64)"
            ]
          },
          "metadata": {},
          "execution_count": 206
        }
      ]
    },
    {
      "cell_type": "code",
      "metadata": {
        "colab": {
          "base_uri": "https://localhost:8080/"
        },
        "id": "MMwt3TQ2Eu07",
        "outputId": "4382f7be-e0d4-4a73-85cc-ec9602468ac9"
      },
      "source": [
        "# Finding Rsquared Values\n",
        "modelsin.rsquared , modelsin.rsquared_adj"
      ],
      "execution_count": 207,
      "outputs": [
        {
          "output_type": "execute_result",
          "data": {
            "text/plain": [
              "(0.008623399326598058, -0.04355431649831787)"
            ]
          },
          "metadata": {},
          "execution_count": 207
        }
      ]
    },
    {
      "cell_type": "markdown",
      "metadata": {
        "id": "H840WqLWE_-8"
      },
      "source": [
        "# **Model Building (cos Transformation Model)**"
      ]
    },
    {
      "cell_type": "code",
      "metadata": {
        "id": "I0BlT3zWEw-Q"
      },
      "source": [
        "modelcos=smf.ols(\"delivery_time~np.cos(sorting_time)\",data=dataset).fit()"
      ],
      "execution_count": 208,
      "outputs": []
    },
    {
      "cell_type": "markdown",
      "metadata": {
        "id": "BSYcDgA_GMFa"
      },
      "source": [
        "**Model Testing**"
      ]
    },
    {
      "cell_type": "code",
      "metadata": {
        "colab": {
          "base_uri": "https://localhost:8080/"
        },
        "id": "9TgKz8oJFKEL",
        "outputId": "7148d940-2231-451a-f691-77c0ef358159"
      },
      "source": [
        "# Finding Coefficient parameters\n",
        "modelcos.params"
      ],
      "execution_count": 209,
      "outputs": [
        {
          "output_type": "execute_result",
          "data": {
            "text/plain": [
              "Intercept               16.899468\n",
              "np.cos(sorting_time)     0.623950\n",
              "dtype: float64"
            ]
          },
          "metadata": {},
          "execution_count": 209
        }
      ]
    },
    {
      "cell_type": "code",
      "metadata": {
        "colab": {
          "base_uri": "https://localhost:8080/"
        },
        "id": "M4oFPnHuGPXW",
        "outputId": "101d53e9-1954-44a2-9964-9b3256d739d5"
      },
      "source": [
        "# Finding tvalues and pvalues\n",
        "modelcos.tvalues , modelcos.pvalues"
      ],
      "execution_count": 210,
      "outputs": [
        {
          "output_type": "execute_result",
          "data": {
            "text/plain": [
              "(Intercept               14.584363\n",
              " np.cos(sorting_time)     0.428666\n",
              " dtype: float64, Intercept               9.013585e-12\n",
              " np.cos(sorting_time)    6.729869e-01\n",
              " dtype: float64)"
            ]
          },
          "metadata": {},
          "execution_count": 210
        }
      ]
    },
    {
      "cell_type": "code",
      "metadata": {
        "colab": {
          "base_uri": "https://localhost:8080/"
        },
        "id": "I3lJ3HWvGTNb",
        "outputId": "f45bc876-b3fd-47af-811c-bd201507c472"
      },
      "source": [
        "# Finding Rsquared Values\n",
        "modelcos.rsquared , modelcos.rsquared_adj"
      ],
      "execution_count": 211,
      "outputs": [
        {
          "output_type": "execute_result",
          "data": {
            "text/plain": [
              "(0.009578658981799548, -0.042548780019158405)"
            ]
          },
          "metadata": {},
          "execution_count": 211
        }
      ]
    },
    {
      "cell_type": "markdown",
      "metadata": {
        "id": "6UYkn55lGghR"
      },
      "source": [
        "# **Model Building (tan Transformation Model)**"
      ]
    },
    {
      "cell_type": "code",
      "metadata": {
        "id": "I0yIsMYXGc9c"
      },
      "source": [
        "modeltan=smf.ols(\"delivery_time~np.tan(sorting_time)\",data=dataset).fit()"
      ],
      "execution_count": 212,
      "outputs": []
    },
    {
      "cell_type": "markdown",
      "metadata": {
        "id": "LxcJp0deGj22"
      },
      "source": [
        "**Model Testing**"
      ]
    },
    {
      "cell_type": "code",
      "metadata": {
        "colab": {
          "base_uri": "https://localhost:8080/"
        },
        "id": "ig6WhAODGmtr",
        "outputId": "1c48668b-b776-433a-8b5a-721b49a4f89b"
      },
      "source": [
        "# Finding Coefficient parameters\n",
        "modeltan.params"
      ],
      "execution_count": 213,
      "outputs": [
        {
          "output_type": "execute_result",
          "data": {
            "text/plain": [
              "Intercept               16.727786\n",
              "np.tan(sorting_time)    -0.234105\n",
              "dtype: float64"
            ]
          },
          "metadata": {},
          "execution_count": 213
        }
      ]
    },
    {
      "cell_type": "code",
      "metadata": {
        "colab": {
          "base_uri": "https://localhost:8080/"
        },
        "id": "TYw-d3uLGnf4",
        "outputId": "864ab162-40e7-4326-fe7e-1cca16d920b8"
      },
      "source": [
        "# Finding tvalues and pvalues\n",
        "modeltan.tvalues , modeltan.pvalues"
      ],
      "execution_count": 214,
      "outputs": [
        {
          "output_type": "execute_result",
          "data": {
            "text/plain": [
              "(Intercept               14.618741\n",
              " np.tan(sorting_time)    -0.377462\n",
              " dtype: float64, Intercept               8.649371e-12\n",
              " np.tan(sorting_time)    7.100137e-01\n",
              " dtype: float64)"
            ]
          },
          "metadata": {},
          "execution_count": 214
        }
      ]
    },
    {
      "cell_type": "code",
      "metadata": {
        "colab": {
          "base_uri": "https://localhost:8080/"
        },
        "id": "7EirMtdGGnQb",
        "outputId": "03316cb0-704c-48d2-a0bf-3bd25aff9a3a"
      },
      "source": [
        "# Finding Rsquared Values\n",
        "modeltan.rsquared , modeltan.rsquared_adj"
      ],
      "execution_count": 215,
      "outputs": [
        {
          "output_type": "execute_result",
          "data": {
            "text/plain": [
              "(0.007443004357947092, -0.04479683751795038)"
            ]
          },
          "metadata": {},
          "execution_count": 215
        }
      ]
    },
    {
      "cell_type": "markdown",
      "metadata": {
        "id": "y34BzHN_HEVF"
      },
      "source": [
        "# **Model Building (log1p Transformation Model)**"
      ]
    },
    {
      "cell_type": "code",
      "metadata": {
        "id": "RhITk3itG1mQ"
      },
      "source": [
        "modellog1p=smf.ols(\"delivery_time~np.log1p(sorting_time)\",data=dataset).fit()"
      ],
      "execution_count": 216,
      "outputs": []
    },
    {
      "cell_type": "markdown",
      "metadata": {
        "id": "L9nKy9T8Hfvq"
      },
      "source": [
        "**Model Testing**"
      ]
    },
    {
      "cell_type": "code",
      "metadata": {
        "colab": {
          "base_uri": "https://localhost:8080/"
        },
        "id": "_GIAAP_fHOeq",
        "outputId": "d3fef918-8efd-455b-b797-4f618c805fbf"
      },
      "source": [
        "# Finding Coefficient parameters\n",
        "modellog1p.params"
      ],
      "execution_count": 217,
      "outputs": [
        {
          "output_type": "execute_result",
          "data": {
            "text/plain": [
              "Intercept                 -4.099013\n",
              "np.log1p(sorting_time)    10.959246\n",
              "dtype: float64"
            ]
          },
          "metadata": {},
          "execution_count": 217
        }
      ]
    },
    {
      "cell_type": "code",
      "metadata": {
        "colab": {
          "base_uri": "https://localhost:8080/"
        },
        "id": "wuEQmuviHi3Z",
        "outputId": "cf9986c5-be56-4595-f215-f319af4631e5"
      },
      "source": [
        "# Finding tvalues and pvalues\n",
        "modellog1p.tvalues , modellog1p.pvalues"
      ],
      "execution_count": 218,
      "outputs": [
        {
          "output_type": "execute_result",
          "data": {
            "text/plain": [
              "(Intercept                -1.272674\n",
              " np.log1p(sorting_time)    6.611817\n",
              " dtype: float64, Intercept                 0.218488\n",
              " np.log1p(sorting_time)    0.000003\n",
              " dtype: float64)"
            ]
          },
          "metadata": {},
          "execution_count": 218
        }
      ]
    },
    {
      "cell_type": "code",
      "metadata": {
        "colab": {
          "base_uri": "https://localhost:8080/"
        },
        "id": "a7EdUGqOHis4",
        "outputId": "d099f4ef-7f46-4378-ef3c-9b1c05a19bea"
      },
      "source": [
        "# Finding Rsquared Values\n",
        "modellog1p.rsquared , modellog1p.rsquared_adj"
      ],
      "execution_count": 219,
      "outputs": [
        {
          "output_type": "execute_result",
          "data": {
            "text/plain": [
              "(0.6970476042045002, 0.6811027412678949)"
            ]
          },
          "metadata": {},
          "execution_count": 219
        }
      ]
    },
    {
      "cell_type": "markdown",
      "metadata": {
        "id": "0LFHaBP0LYPK"
      },
      "source": [
        "# **Model Building (Quadratic Transformation Model)**"
      ]
    },
    {
      "cell_type": "code",
      "metadata": {
        "id": "z_iyVC3VLljv"
      },
      "source": [
        "dataset['sq_sort_time']=dataset.sorting_time*dataset.sorting_time"
      ],
      "execution_count": 220,
      "outputs": []
    },
    {
      "cell_type": "code",
      "metadata": {
        "id": "i7Sx9e0yHwhT"
      },
      "source": [
        "modelquad=smf.ols(\"dataset.delivery_time~dataset.sq_sort_time+dataset.sorting_time\",data=dataset).fit()"
      ],
      "execution_count": 221,
      "outputs": []
    },
    {
      "cell_type": "markdown",
      "metadata": {
        "id": "rk38jdH2M62B"
      },
      "source": [
        "**Model Testing**"
      ]
    },
    {
      "cell_type": "code",
      "metadata": {
        "colab": {
          "base_uri": "https://localhost:8080/"
        },
        "id": "mJnOeLnuM28e",
        "outputId": "19fdb4c6-787a-44a6-a4c4-c5af1902a2e3"
      },
      "source": [
        "# Finding Coefficient parameters\n",
        "modelquad.params"
      ],
      "execution_count": 222,
      "outputs": [
        {
          "output_type": "execute_result",
          "data": {
            "text/plain": [
              "Intercept               3.522234\n",
              "dataset.sq_sort_time   -0.093198\n",
              "dataset.sorting_time    2.813002\n",
              "dtype: float64"
            ]
          },
          "metadata": {},
          "execution_count": 222
        }
      ]
    },
    {
      "cell_type": "code",
      "metadata": {
        "colab": {
          "base_uri": "https://localhost:8080/"
        },
        "id": "Q3N--V7sM8Nh",
        "outputId": "49230e59-23d2-4485-badd-01db09bf52bc"
      },
      "source": [
        "# Finding tvalues and pvalues\n",
        "modelquad.tvalues , modelquad.pvalues"
      ],
      "execution_count": 223,
      "outputs": [
        {
          "output_type": "execute_result",
          "data": {
            "text/plain": [
              "(Intercept               0.846756\n",
              " dataset.sq_sort_time   -0.809783\n",
              " dataset.sorting_time    1.925632\n",
              " dtype: float64, Intercept               0.408248\n",
              " dataset.sq_sort_time    0.428641\n",
              " dataset.sorting_time    0.070097\n",
              " dtype: float64)"
            ]
          },
          "metadata": {},
          "execution_count": 223
        }
      ]
    },
    {
      "cell_type": "code",
      "metadata": {
        "colab": {
          "base_uri": "https://localhost:8080/"
        },
        "id": "_87eKoH4M8EM",
        "outputId": "7515a9ad-a439-460d-8bc1-7db457bbb392"
      },
      "source": [
        "# Finding Rsquared Values\n",
        "modelquad.rsquared , modelquad.rsquared_adj"
      ],
      "execution_count": 224,
      "outputs": [
        {
          "output_type": "execute_result",
          "data": {
            "text/plain": [
              "(0.6934396274520247, 0.659377363835583)"
            ]
          },
          "metadata": {},
          "execution_count": 224
        }
      ]
    },
    {
      "cell_type": "markdown",
      "metadata": {
        "id": "a_E4chwwPgMN"
      },
      "source": [
        "# **Model Building (Polynomial Transformation Model)**"
      ]
    },
    {
      "cell_type": "code",
      "metadata": {
        "id": "TWIT7P_bOohK"
      },
      "source": [
        "modelpoly=smf.ols(\"delivery_time~sorting_time+I(sorting_time^2)\",data=dataset).fit()"
      ],
      "execution_count": 225,
      "outputs": []
    },
    {
      "cell_type": "markdown",
      "metadata": {
        "id": "c0p0fcbyPnbv"
      },
      "source": [
        "**Model Testing**"
      ]
    },
    {
      "cell_type": "code",
      "metadata": {
        "colab": {
          "base_uri": "https://localhost:8080/"
        },
        "id": "5ZjyaHUEOoeN",
        "outputId": "75c06ca0-aba2-4c67-88b1-1e445a1bed2c"
      },
      "source": [
        "# Finding Coefficient parameters\n",
        "modelpoly.params"
      ],
      "execution_count": 226,
      "outputs": [
        {
          "output_type": "execute_result",
          "data": {
            "text/plain": [
              "Intercept              6.783730\n",
              "sorting_time           1.319023\n",
              "I(sorting_time ^ 2)    0.333437\n",
              "dtype: float64"
            ]
          },
          "metadata": {},
          "execution_count": 226
        }
      ]
    },
    {
      "cell_type": "code",
      "metadata": {
        "colab": {
          "base_uri": "https://localhost:8080/"
        },
        "id": "bFpjA0oKOobf",
        "outputId": "edc83405-a902-4497-e355-b06b24020d39"
      },
      "source": [
        "# Finding tvalues and pvalues\n",
        "modelpoly.tvalues , modelpoly.pvalues"
      ],
      "execution_count": 227,
      "outputs": [
        {
          "output_type": "execute_result",
          "data": {
            "text/plain": [
              "(Intercept              3.908566\n",
              " sorting_time           3.108731\n",
              " I(sorting_time ^ 2)    0.980627\n",
              " dtype: float64, Intercept              0.001030\n",
              " sorting_time           0.006062\n",
              " I(sorting_time ^ 2)    0.339774\n",
              " dtype: float64)"
            ]
          },
          "metadata": {},
          "execution_count": 227
        }
      ]
    },
    {
      "cell_type": "code",
      "metadata": {
        "colab": {
          "base_uri": "https://localhost:8080/"
        },
        "id": "eDlKl797OoSk",
        "outputId": "c9f8922a-6918-4eae-833b-ce3961f51f8f"
      },
      "source": [
        "# Finding Rsquared Values\n",
        "modelpoly.rsquared , modelpoly.rsquared_adj"
      ],
      "execution_count": 228,
      "outputs": [
        {
          "output_type": "execute_result",
          "data": {
            "text/plain": [
              "(0.6983849286381746, 0.6648721429313051)"
            ]
          },
          "metadata": {},
          "execution_count": 228
        }
      ]
    },
    {
      "cell_type": "markdown",
      "metadata": {
        "id": "8CebHZjnQGN1"
      },
      "source": [
        "# **Model Building (Cubic Transformation Model)**"
      ]
    },
    {
      "cell_type": "code",
      "metadata": {
        "id": "NaPA2txuQF48"
      },
      "source": [
        "modelcubic=smf.ols(\"delivery_time~sorting_time+I(sorting_time^2)+I(sorting_time^3)\",data=dataset).fit()"
      ],
      "execution_count": 229,
      "outputs": []
    },
    {
      "cell_type": "markdown",
      "metadata": {
        "id": "MQURrtGZQFQ0"
      },
      "source": [
        "**Model Testing**"
      ]
    },
    {
      "cell_type": "code",
      "metadata": {
        "colab": {
          "base_uri": "https://localhost:8080/"
        },
        "id": "ZdAjxszUNGMs",
        "outputId": "b455f652-1950-4f18-9808-5c5ef41acb70"
      },
      "source": [
        "# Finding Coefficient parameters\n",
        "modelcubic.params"
      ],
      "execution_count": 230,
      "outputs": [
        {
          "output_type": "execute_result",
          "data": {
            "text/plain": [
              "Intercept              6.733796\n",
              "sorting_time           1.316197\n",
              "I(sorting_time ^ 2)    0.791320\n",
              "I(sorting_time ^ 3)   -0.441867\n",
              "dtype: float64"
            ]
          },
          "metadata": {},
          "execution_count": 230
        }
      ]
    },
    {
      "cell_type": "code",
      "metadata": {
        "colab": {
          "base_uri": "https://localhost:8080/"
        },
        "id": "oaFk2qQXQRJe",
        "outputId": "e755fd0f-d212-4a93-ef27-364ca98675c5"
      },
      "source": [
        "# Finding tvalues and pvalues\n",
        "modelcubic.tvalues , modelcubic.pvalues"
      ],
      "execution_count": 231,
      "outputs": [
        {
          "output_type": "execute_result",
          "data": {
            "text/plain": [
              "(Intercept              3.817243\n",
              " sorting_time           3.054603\n",
              " I(sorting_time ^ 2)    1.039048\n",
              " I(sorting_time ^ 3)   -0.674540\n",
              " dtype: float64, Intercept              0.001378\n",
              " sorting_time           0.007168\n",
              " I(sorting_time ^ 2)    0.313336\n",
              " I(sorting_time ^ 3)    0.509038\n",
              " dtype: float64)"
            ]
          },
          "metadata": {},
          "execution_count": 231
        }
      ]
    },
    {
      "cell_type": "code",
      "metadata": {
        "colab": {
          "base_uri": "https://localhost:8080/"
        },
        "id": "dro06cfCQQ9A",
        "outputId": "5e9166cb-16e2-44dd-ac87-7f8fc555c018"
      },
      "source": [
        "# Finding Rsquared Values\n",
        "modelcubic.rsquared , modelcubic.rsquared_adj"
      ],
      "execution_count": 232,
      "outputs": [
        {
          "output_type": "execute_result",
          "data": {
            "text/plain": [
              "(0.7062472047242188, 0.6544084761461397)"
            ]
          },
          "metadata": {},
          "execution_count": 232
        }
      ]
    },
    {
      "cell_type": "markdown",
      "metadata": {
        "id": "032SBcA_Ol1N"
      },
      "source": [
        "# **Model Building (Square root+Cubic Transformation Model)**"
      ]
    },
    {
      "cell_type": "code",
      "metadata": {
        "id": "dpjainlwSCUa"
      },
      "source": [
        "modelsqrtcubic=smf.ols(\"delivery_time~np.sqrt(sorting_time)+sorting_time+I(sorting_time^2)+I(sorting_time^3)\",data=dataset).fit()"
      ],
      "execution_count": 233,
      "outputs": []
    },
    {
      "cell_type": "markdown",
      "metadata": {
        "id": "puiIzhytSduw"
      },
      "source": [
        "**Model Testing**"
      ]
    },
    {
      "cell_type": "code",
      "metadata": {
        "colab": {
          "base_uri": "https://localhost:8080/"
        },
        "id": "S3-_560LSTWn",
        "outputId": "62486518-d20a-4633-f2d9-1a88490fa4ef"
      },
      "source": [
        "# Finding Coefficient parameters\n",
        "modelsqrtcubic.params"
      ],
      "execution_count": 234,
      "outputs": [
        {
          "output_type": "execute_result",
          "data": {
            "text/plain": [
              "Intercept               -2.635899\n",
              "np.sqrt(sorting_time)    8.195203\n",
              "sorting_time            -0.349034\n",
              "I(sorting_time ^ 2)      0.672257\n",
              "I(sorting_time ^ 3)     -0.370619\n",
              "dtype: float64"
            ]
          },
          "metadata": {},
          "execution_count": 234
        }
      ]
    },
    {
      "cell_type": "code",
      "metadata": {
        "colab": {
          "base_uri": "https://localhost:8080/"
        },
        "id": "4lfwYHTaSgIB",
        "outputId": "65107ead-9387-4126-d463-69430322ef36"
      },
      "source": [
        "# Finding tvalues and pvalues\n",
        "modelsqrtcubic.tvalues , modelcubic.pvalues"
      ],
      "execution_count": 235,
      "outputs": [
        {
          "output_type": "execute_result",
          "data": {
            "text/plain": [
              "(Intercept               -0.178759\n",
              " np.sqrt(sorting_time)    0.640188\n",
              " sorting_time            -0.132316\n",
              " I(sorting_time ^ 2)      0.843322\n",
              " I(sorting_time ^ 3)     -0.548283\n",
              " dtype: float64, Intercept              0.001378\n",
              " sorting_time           0.007168\n",
              " I(sorting_time ^ 2)    0.313336\n",
              " I(sorting_time ^ 3)    0.509038\n",
              " dtype: float64)"
            ]
          },
          "metadata": {},
          "execution_count": 235
        }
      ]
    },
    {
      "cell_type": "code",
      "metadata": {
        "colab": {
          "base_uri": "https://localhost:8080/"
        },
        "id": "oCOxkK8WSf97",
        "outputId": "c0f8fc4d-3146-491a-831e-10303577ed64"
      },
      "source": [
        "# Finding Rsquared Values\n",
        "modelsqrtcubic.rsquared , modelcubic.rsquared_adj"
      ],
      "execution_count": 236,
      "outputs": [
        {
          "output_type": "execute_result",
          "data": {
            "text/plain": [
              "(0.7135837714239137, 0.6544084761461397)"
            ]
          },
          "metadata": {},
          "execution_count": 236
        }
      ]
    },
    {
      "cell_type": "markdown",
      "metadata": {
        "id": "zg2XzeuuSwsI"
      },
      "source": [
        "All models results"
      ]
    },
    {
      "cell_type": "code",
      "metadata": {
        "colab": {
          "base_uri": "https://localhost:8080/"
        },
        "id": "mH2_dQrOSrwh",
        "outputId": "f2dc120b-df83-4865-e585-c0297d627ac3"
      },
      "source": [
        "#Simple linear Regression Model \n",
        "model.rsquared , model.rsquared_adj"
      ],
      "execution_count": 237,
      "outputs": [
        {
          "output_type": "execute_result",
          "data": {
            "text/plain": [
              "(0.6822714748417231, 0.6655489208860244)"
            ]
          },
          "metadata": {},
          "execution_count": 237
        }
      ]
    },
    {
      "cell_type": "code",
      "metadata": {
        "colab": {
          "base_uri": "https://localhost:8080/"
        },
        "id": "sdA1d0xrUQ3h",
        "outputId": "fcb43db4-5116-41b0-b8fa-45bd31fda6f3"
      },
      "source": [
        "#Logrithm Transformation Model  \n",
        "modellog.rsquared , modellog.rsquared_adj"
      ],
      "execution_count": 238,
      "outputs": [
        {
          "output_type": "execute_result",
          "data": {
            "text/plain": [
              "(0.6954434611324224, 0.6794141696130762)"
            ]
          },
          "metadata": {},
          "execution_count": 238
        }
      ]
    },
    {
      "cell_type": "code",
      "metadata": {
        "colab": {
          "base_uri": "https://localhost:8080/"
        },
        "id": "Y8QfrTIMUWR_",
        "outputId": "e0b88543-c461-427b-ee73-e2c542e871ca"
      },
      "source": [
        "#Square root Transformation Model \n",
        "modelsqrt.rsquared , modelsqrt.rsquared_adj"
      ],
      "execution_count": 239,
      "outputs": [
        {
          "output_type": "execute_result",
          "data": {
            "text/plain": [
              "(0.695806227630867, 0.6797960290851232)"
            ]
          },
          "metadata": {},
          "execution_count": 239
        }
      ]
    },
    {
      "cell_type": "code",
      "metadata": {
        "colab": {
          "base_uri": "https://localhost:8080/"
        },
        "id": "p7TFOMrlUack",
        "outputId": "34410ce9-012d-436a-f044-72db61d5ef9b"
      },
      "source": [
        "#Exponential Transformation Model \n",
        "modelexpo.rsquared , modelexpo.rsquared_adj"
      ],
      "execution_count": 240,
      "outputs": [
        {
          "output_type": "execute_result",
          "data": {
            "text/plain": [
              "(0.3611177022709089, 0.3274923181799041)"
            ]
          },
          "metadata": {},
          "execution_count": 240
        }
      ]
    },
    {
      "cell_type": "code",
      "metadata": {
        "colab": {
          "base_uri": "https://localhost:8080/"
        },
        "id": "TDBQBdinUfuS",
        "outputId": "40d6a1d6-a22e-4f18-9470-529b63583a36"
      },
      "source": [
        "#Sin Transformation Model \n",
        "modelsin.rsquared , modelsin.rsquared_adj"
      ],
      "execution_count": 241,
      "outputs": [
        {
          "output_type": "execute_result",
          "data": {
            "text/plain": [
              "(0.008623399326598058, -0.04355431649831787)"
            ]
          },
          "metadata": {},
          "execution_count": 241
        }
      ]
    },
    {
      "cell_type": "code",
      "metadata": {
        "colab": {
          "base_uri": "https://localhost:8080/"
        },
        "id": "9xKvMIuyUlbu",
        "outputId": "6e63dec7-e76b-4bd7-a9fa-d17bb0640091"
      },
      "source": [
        "#cos Transformation Model  \n",
        "modelcos.rsquared , modelcos.rsquared_adj"
      ],
      "execution_count": 242,
      "outputs": [
        {
          "output_type": "execute_result",
          "data": {
            "text/plain": [
              "(0.009578658981799548, -0.042548780019158405)"
            ]
          },
          "metadata": {},
          "execution_count": 242
        }
      ]
    },
    {
      "cell_type": "code",
      "metadata": {
        "colab": {
          "base_uri": "https://localhost:8080/"
        },
        "id": "wBUik4TBUpvp",
        "outputId": "a0630404-fb3d-4c14-c74f-da672a9a0738"
      },
      "source": [
        "#tan Transformation Model \n",
        "modeltan.rsquared , modeltan.rsquared_adj"
      ],
      "execution_count": 243,
      "outputs": [
        {
          "output_type": "execute_result",
          "data": {
            "text/plain": [
              "(0.007443004357947092, -0.04479683751795038)"
            ]
          },
          "metadata": {},
          "execution_count": 243
        }
      ]
    },
    {
      "cell_type": "code",
      "metadata": {
        "colab": {
          "base_uri": "https://localhost:8080/"
        },
        "id": "8BxU5t-CUuQq",
        "outputId": "330defc2-c2e7-442b-cf39-9b02493d397a"
      },
      "source": [
        "#log1p Transformation Model \n",
        "modellog1p.rsquared , modellog1p.rsquared_adj"
      ],
      "execution_count": 244,
      "outputs": [
        {
          "output_type": "execute_result",
          "data": {
            "text/plain": [
              "(0.6970476042045002, 0.6811027412678949)"
            ]
          },
          "metadata": {},
          "execution_count": 244
        }
      ]
    },
    {
      "cell_type": "code",
      "metadata": {
        "colab": {
          "base_uri": "https://localhost:8080/"
        },
        "id": "agWQNTlPUz_x",
        "outputId": "e3fd8a3c-67a4-4ad1-d1ab-e30fa06f6dff"
      },
      "source": [
        "#Quadratic Transformation Model  \n",
        "modelquad.rsquared , modelquad.rsquared_adj"
      ],
      "execution_count": 245,
      "outputs": [
        {
          "output_type": "execute_result",
          "data": {
            "text/plain": [
              "(0.6934396274520247, 0.659377363835583)"
            ]
          },
          "metadata": {},
          "execution_count": 245
        }
      ]
    },
    {
      "cell_type": "code",
      "metadata": {
        "colab": {
          "base_uri": "https://localhost:8080/"
        },
        "id": "nA42ASxhU3xj",
        "outputId": "d718243c-e48b-49c3-8ecb-19f797c46c3a"
      },
      "source": [
        "#Polynomial Transformation Model \n",
        "modelpoly.rsquared , modelpoly.rsquared_adj"
      ],
      "execution_count": 246,
      "outputs": [
        {
          "output_type": "execute_result",
          "data": {
            "text/plain": [
              "(0.6983849286381746, 0.6648721429313051)"
            ]
          },
          "metadata": {},
          "execution_count": 246
        }
      ]
    },
    {
      "cell_type": "code",
      "metadata": {
        "colab": {
          "base_uri": "https://localhost:8080/"
        },
        "id": "GqJpbptZU8OZ",
        "outputId": "cf8c3ea7-7389-48d6-ca3f-f7dbd26774d2"
      },
      "source": [
        "#Cubic Transformation Model \n",
        "modelcubic.rsquared , modelcubic.rsquared_adj "
      ],
      "execution_count": 247,
      "outputs": [
        {
          "output_type": "execute_result",
          "data": {
            "text/plain": [
              "(0.7062472047242188, 0.6544084761461397)"
            ]
          },
          "metadata": {},
          "execution_count": 247
        }
      ]
    },
    {
      "cell_type": "code",
      "metadata": {
        "colab": {
          "base_uri": "https://localhost:8080/"
        },
        "id": "3JGRBciAVAjZ",
        "outputId": "83771438-70a9-4a01-edc9-bd0710ec2784"
      },
      "source": [
        "#Square root+Cubic Transformation Model \n",
        "modelsqrtcubic.rsquared , modelcubic.rsquared_adj"
      ],
      "execution_count": 248,
      "outputs": [
        {
          "output_type": "execute_result",
          "data": {
            "text/plain": [
              "(0.7135837714239137, 0.6544084761461397)"
            ]
          },
          "metadata": {},
          "execution_count": 248
        }
      ]
    },
    {
      "cell_type": "markdown",
      "metadata": {
        "id": "ET8kg1QSVSpU"
      },
      "source": [
        "Hence, best model is quare root+Cubic Transformation Model"
      ]
    },
    {
      "cell_type": "markdown",
      "metadata": {
        "id": "Oa9l5tKuVbAM"
      },
      "source": [
        "# **Model Predictions**"
      ]
    },
    {
      "cell_type": "code",
      "metadata": {
        "colab": {
          "base_uri": "https://localhost:8080/"
        },
        "id": "c1TnP0lwVG0d",
        "outputId": "1d8a811e-d1aa-44da-9aa7-d9114a5f143e"
      },
      "source": [
        "# Manual prediction for say sorting time 5\n",
        "delivery_time = (6.582734) + (1.649020)*(5)\n",
        "delivery_time"
      ],
      "execution_count": 249,
      "outputs": [
        {
          "output_type": "execute_result",
          "data": {
            "text/plain": [
              "14.827834"
            ]
          },
          "metadata": {},
          "execution_count": 249
        }
      ]
    },
    {
      "cell_type": "code",
      "metadata": {
        "colab": {
          "base_uri": "https://localhost:8080/"
        },
        "id": "nU4I0WQdVgYM",
        "outputId": "009df6bd-6693-4046-b927-553e14216613"
      },
      "source": [
        "# Automatic Prediction for say sorting time 5, 8\n",
        "new_data=pd.Series([5,8])\n",
        "new_data"
      ],
      "execution_count": 250,
      "outputs": [
        {
          "output_type": "execute_result",
          "data": {
            "text/plain": [
              "0    5\n",
              "1    8\n",
              "dtype: int64"
            ]
          },
          "metadata": {},
          "execution_count": 250
        }
      ]
    },
    {
      "cell_type": "code",
      "metadata": {
        "colab": {
          "base_uri": "https://localhost:8080/",
          "height": 112
        },
        "id": "4AULLjvEVie4",
        "outputId": "a1b7168a-5181-4209-f3e2-ccae4db9a5e8"
      },
      "source": [
        "data_pred=pd.DataFrame(new_data,columns=['sorting_time'])\n",
        "data_pred"
      ],
      "execution_count": 251,
      "outputs": [
        {
          "output_type": "execute_result",
          "data": {
            "text/html": [
              "<div>\n",
              "<style scoped>\n",
              "    .dataframe tbody tr th:only-of-type {\n",
              "        vertical-align: middle;\n",
              "    }\n",
              "\n",
              "    .dataframe tbody tr th {\n",
              "        vertical-align: top;\n",
              "    }\n",
              "\n",
              "    .dataframe thead th {\n",
              "        text-align: right;\n",
              "    }\n",
              "</style>\n",
              "<table border=\"1\" class=\"dataframe\">\n",
              "  <thead>\n",
              "    <tr style=\"text-align: right;\">\n",
              "      <th></th>\n",
              "      <th>sorting_time</th>\n",
              "    </tr>\n",
              "  </thead>\n",
              "  <tbody>\n",
              "    <tr>\n",
              "      <th>0</th>\n",
              "      <td>5</td>\n",
              "    </tr>\n",
              "    <tr>\n",
              "      <th>1</th>\n",
              "      <td>8</td>\n",
              "    </tr>\n",
              "  </tbody>\n",
              "</table>\n",
              "</div>"
            ],
            "text/plain": [
              "   sorting_time\n",
              "0             5\n",
              "1             8"
            ]
          },
          "metadata": {},
          "execution_count": 251
        }
      ]
    },
    {
      "cell_type": "code",
      "metadata": {
        "colab": {
          "base_uri": "https://localhost:8080/"
        },
        "id": "0DJqoXH2VmtA",
        "outputId": "b08917e5-423d-43a9-9d71-cecf1ad7db74"
      },
      "source": [
        "model.predict(data_pred)"
      ],
      "execution_count": 252,
      "outputs": [
        {
          "output_type": "execute_result",
          "data": {
            "text/plain": [
              "0    14.827833\n",
              "1    19.774893\n",
              "dtype: float64"
            ]
          },
          "metadata": {},
          "execution_count": 252
        }
      ]
    },
    {
      "cell_type": "code",
      "metadata": {
        "id": "CYdaLPoOVpha"
      },
      "source": [
        ""
      ],
      "execution_count": 252,
      "outputs": []
    }
  ]
}